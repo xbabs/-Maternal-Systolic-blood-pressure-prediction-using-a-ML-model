{
 "cells": [
  {
   "cell_type": "markdown",
   "id": "4922605e",
   "metadata": {},
   "source": [
    "# DEVELOPING A MODEL TO IMPROVE MATERNITY HEALTH\n",
    "This lines of code involves using a multiple linear regression model to predict systolic blood pressure using a dataset containing 1,014 entries related to women's health. Linear regression is a simple and widely used predictive analysis technique that models the relationship between two or more variables by fitting a straight line to the data. This model predicts the value of systolic blood pressure, which is the target variable, based on the values of one or more independent variables such as Age, diastolic blood pressure, blood sugar, body temperature, heart rate and their corresponding risk levels."
   ]
  },
  {
   "cell_type": "markdown",
   "id": "a0a86756",
   "metadata": {},
   "source": [
    "### Importing Required Libraries"
   ]
  },
  {
   "cell_type": "code",
   "execution_count": 1,
   "id": "851d0920",
   "metadata": {},
   "outputs": [
    {
     "name": "stderr",
     "output_type": "stream",
     "text": [
      "C:\\Users\\DELL\\anaconda3\\lib\\site-packages\\yellowbrick\\style\\colors.py:35: DeprecationWarning: distutils Version classes are deprecated. Use packaging.version instead.\n",
      "  mpl_ge_150 = LooseVersion(mpl.__version__) >= \"1.5.0\"\n",
      "C:\\Users\\DELL\\anaconda3\\lib\\site-packages\\setuptools\\_distutils\\version.py:346: DeprecationWarning: distutils Version classes are deprecated. Use packaging.version instead.\n",
      "  other = LooseVersion(other)\n",
      "C:\\Users\\DELL\\anaconda3\\lib\\site-packages\\yellowbrick\\style\\rcmod.py:31: DeprecationWarning: distutils Version classes are deprecated. Use packaging.version instead.\n",
      "  mpl_ge_150 = LooseVersion(mpl.__version__) >= \"1.5.0\"\n",
      "C:\\Users\\DELL\\anaconda3\\lib\\site-packages\\setuptools\\_distutils\\version.py:346: DeprecationWarning: distutils Version classes are deprecated. Use packaging.version instead.\n",
      "  other = LooseVersion(other)\n"
     ]
    }
   ],
   "source": [
    "import pandas as pd\n",
    "import numpy as np\n",
    "import seaborn as sns\n",
    "import matplotlib.pyplot as plt\n",
    "%matplotlib inline\n",
    "\n",
    "from sklearn.linear_model import LinearRegression\n",
    "from sklearn.preprocessing import StandardScaler\n",
    "from sklearn.decomposition import PCA\n",
    "from sklearn.preprocessing import OneHotEncoder\n",
    "from mlxtend.preprocessing import TransactionEncoder\n",
    "from mlxtend.frequent_patterns import apriori\n",
    "from mlxtend.frequent_patterns import association_rules\n",
    "\n",
    "from sklearn.model_selection import train_test_split # sci-kit learn library to split train and test data\n",
    "from sklearn.preprocessing import MinMaxScaler # to rescale the numerical data\n",
    "from sklearn.metrics import mean_absolute_error,mean_squared_error,r2_score\n",
    "\n",
    "from sklearn.ensemble import RandomForestClassifier\n",
    "from imblearn.over_sampling import SMOTE\n",
    "from sklearn.cluster import KMeans\n",
    "from sklearn.metrics import (mean_absolute_error, mean_squared_error, r2_score, accuracy_score,\n",
    "                             classification_report,confusion_matrix, ConfusionMatrixDisplay, plot_roc_curve, roc_auc_score,\n",
    "                             davies_bouldin_score, silhouette_score, v_measure_score, rand_score)\n",
    "from sklearn.feature_selection import SelectKBest, chi2, f_regression, f_classif\n",
    "from sklearn import metrics\n",
    "from sklearn.decomposition import PCA\n",
    "from yellowbrick.cluster import KElbowVisualizer"
   ]
  },
  {
   "cell_type": "markdown",
   "id": "2fce1327",
   "metadata": {},
   "source": [
    "## Data Importation"
   ]
  },
  {
   "cell_type": "code",
   "execution_count": 2,
   "id": "3a2eaaa7",
   "metadata": {},
   "outputs": [
    {
     "data": {
      "text/html": [
       "<div>\n",
       "<style scoped>\n",
       "    .dataframe tbody tr th:only-of-type {\n",
       "        vertical-align: middle;\n",
       "    }\n",
       "\n",
       "    .dataframe tbody tr th {\n",
       "        vertical-align: top;\n",
       "    }\n",
       "\n",
       "    .dataframe thead th {\n",
       "        text-align: right;\n",
       "    }\n",
       "</style>\n",
       "<table border=\"1\" class=\"dataframe\">\n",
       "  <thead>\n",
       "    <tr style=\"text-align: right;\">\n",
       "      <th></th>\n",
       "      <th>Age</th>\n",
       "      <th>SystolicBP</th>\n",
       "      <th>DiastolicBP</th>\n",
       "      <th>BS</th>\n",
       "      <th>BodyTemp</th>\n",
       "      <th>HeartRate</th>\n",
       "      <th>RiskLevel</th>\n",
       "    </tr>\n",
       "  </thead>\n",
       "  <tbody>\n",
       "    <tr>\n",
       "      <th>0</th>\n",
       "      <td>25</td>\n",
       "      <td>130</td>\n",
       "      <td>80</td>\n",
       "      <td>15.0</td>\n",
       "      <td>98.0</td>\n",
       "      <td>86</td>\n",
       "      <td>high risk</td>\n",
       "    </tr>\n",
       "    <tr>\n",
       "      <th>1</th>\n",
       "      <td>35</td>\n",
       "      <td>140</td>\n",
       "      <td>90</td>\n",
       "      <td>13.0</td>\n",
       "      <td>98.0</td>\n",
       "      <td>70</td>\n",
       "      <td>high risk</td>\n",
       "    </tr>\n",
       "    <tr>\n",
       "      <th>2</th>\n",
       "      <td>29</td>\n",
       "      <td>90</td>\n",
       "      <td>70</td>\n",
       "      <td>8.0</td>\n",
       "      <td>100.0</td>\n",
       "      <td>80</td>\n",
       "      <td>high risk</td>\n",
       "    </tr>\n",
       "    <tr>\n",
       "      <th>3</th>\n",
       "      <td>30</td>\n",
       "      <td>140</td>\n",
       "      <td>85</td>\n",
       "      <td>7.0</td>\n",
       "      <td>98.0</td>\n",
       "      <td>70</td>\n",
       "      <td>high risk</td>\n",
       "    </tr>\n",
       "    <tr>\n",
       "      <th>4</th>\n",
       "      <td>35</td>\n",
       "      <td>120</td>\n",
       "      <td>60</td>\n",
       "      <td>6.1</td>\n",
       "      <td>98.0</td>\n",
       "      <td>76</td>\n",
       "      <td>low risk</td>\n",
       "    </tr>\n",
       "    <tr>\n",
       "      <th>...</th>\n",
       "      <td>...</td>\n",
       "      <td>...</td>\n",
       "      <td>...</td>\n",
       "      <td>...</td>\n",
       "      <td>...</td>\n",
       "      <td>...</td>\n",
       "      <td>...</td>\n",
       "    </tr>\n",
       "    <tr>\n",
       "      <th>1009</th>\n",
       "      <td>22</td>\n",
       "      <td>120</td>\n",
       "      <td>60</td>\n",
       "      <td>15.0</td>\n",
       "      <td>98.0</td>\n",
       "      <td>80</td>\n",
       "      <td>high risk</td>\n",
       "    </tr>\n",
       "    <tr>\n",
       "      <th>1010</th>\n",
       "      <td>55</td>\n",
       "      <td>120</td>\n",
       "      <td>90</td>\n",
       "      <td>18.0</td>\n",
       "      <td>98.0</td>\n",
       "      <td>60</td>\n",
       "      <td>high risk</td>\n",
       "    </tr>\n",
       "    <tr>\n",
       "      <th>1011</th>\n",
       "      <td>35</td>\n",
       "      <td>85</td>\n",
       "      <td>60</td>\n",
       "      <td>19.0</td>\n",
       "      <td>98.0</td>\n",
       "      <td>86</td>\n",
       "      <td>high risk</td>\n",
       "    </tr>\n",
       "    <tr>\n",
       "      <th>1012</th>\n",
       "      <td>43</td>\n",
       "      <td>120</td>\n",
       "      <td>90</td>\n",
       "      <td>18.0</td>\n",
       "      <td>98.0</td>\n",
       "      <td>70</td>\n",
       "      <td>high risk</td>\n",
       "    </tr>\n",
       "    <tr>\n",
       "      <th>1013</th>\n",
       "      <td>32</td>\n",
       "      <td>120</td>\n",
       "      <td>65</td>\n",
       "      <td>6.0</td>\n",
       "      <td>101.0</td>\n",
       "      <td>76</td>\n",
       "      <td>mid risk</td>\n",
       "    </tr>\n",
       "  </tbody>\n",
       "</table>\n",
       "<p>1014 rows × 7 columns</p>\n",
       "</div>"
      ],
      "text/plain": [
       "      Age  SystolicBP  DiastolicBP    BS  BodyTemp  HeartRate  RiskLevel\n",
       "0      25         130           80  15.0      98.0         86  high risk\n",
       "1      35         140           90  13.0      98.0         70  high risk\n",
       "2      29          90           70   8.0     100.0         80  high risk\n",
       "3      30         140           85   7.0      98.0         70  high risk\n",
       "4      35         120           60   6.1      98.0         76   low risk\n",
       "...   ...         ...          ...   ...       ...        ...        ...\n",
       "1009   22         120           60  15.0      98.0         80  high risk\n",
       "1010   55         120           90  18.0      98.0         60  high risk\n",
       "1011   35          85           60  19.0      98.0         86  high risk\n",
       "1012   43         120           90  18.0      98.0         70  high risk\n",
       "1013   32         120           65   6.0     101.0         76   mid risk\n",
       "\n",
       "[1014 rows x 7 columns]"
      ]
     },
     "execution_count": 2,
     "metadata": {},
     "output_type": "execute_result"
    }
   ],
   "source": [
    "mhs_data = pd.read_csv(\"mhs.csv\") # Import the csv file\n",
    "mhs_data # prints out the dataset"
   ]
  },
  {
   "cell_type": "code",
   "execution_count": 3,
   "id": "e05c52cc",
   "metadata": {},
   "outputs": [
    {
     "name": "stdout",
     "output_type": "stream",
     "text": [
      "<class 'pandas.core.frame.DataFrame'>\n",
      "RangeIndex: 1014 entries, 0 to 1013\n",
      "Data columns (total 7 columns):\n",
      " #   Column       Non-Null Count  Dtype  \n",
      "---  ------       --------------  -----  \n",
      " 0   Age          1014 non-null   int64  \n",
      " 1   SystolicBP   1014 non-null   int64  \n",
      " 2   DiastolicBP  1014 non-null   int64  \n",
      " 3   BS           1014 non-null   float64\n",
      " 4   BodyTemp     1014 non-null   float64\n",
      " 5   HeartRate    1014 non-null   int64  \n",
      " 6   RiskLevel    1014 non-null   object \n",
      "dtypes: float64(2), int64(4), object(1)\n",
      "memory usage: 55.6+ KB\n"
     ]
    }
   ],
   "source": [
    "mhs_data.info() # Information about the data and datatypes"
   ]
  },
  {
   "cell_type": "code",
   "execution_count": 4,
   "id": "0f00a7bb",
   "metadata": {},
   "outputs": [
    {
     "data": {
      "image/png": "[encoded data removed]",
      "text/plain": [
       "<Figure size 2000x1300 with 6 Axes>"
      ]
     },
     "metadata": {},
     "output_type": "display_data"
    }
   ],
   "source": [
    "# Visualizing the numerical variables\n",
    "mhs_data.hist(bins=50, figsize=(20, 13))\n",
    "plt.show()"
   ]
  },
  {
   "cell_type": "markdown",
   "id": "cdd6c1b3",
   "metadata": {},
   "source": [
    "## Data Cleaning"
   ]
  },
  {
   "cell_type": "code",
   "execution_count": 5,
   "id": "a01e3ad6",
   "metadata": {
    "scrolled": true
   },
   "outputs": [
    {
     "data": {
      "text/plain": [
       "Age            0\n",
       "SystolicBP     0\n",
       "DiastolicBP    0\n",
       "BS             0\n",
       "BodyTemp       0\n",
       "HeartRate      0\n",
       "RiskLevel      0\n",
       "dtype: int64"
      ]
     },
     "execution_count": 5,
     "metadata": {},
     "output_type": "execute_result"
    }
   ],
   "source": [
    "mhs_data.isna().sum() # Sum of all null entries"
   ]
  },
  {
   "cell_type": "code",
   "execution_count": 6,
   "id": "822c10e4",
   "metadata": {
    "scrolled": false
   },
   "outputs": [
    {
     "data": {
      "text/html": [
       "<div>\n",
       "<style scoped>\n",
       "    .dataframe tbody tr th:only-of-type {\n",
       "        vertical-align: middle;\n",
       "    }\n",
       "\n",
       "    .dataframe tbody tr th {\n",
       "        vertical-align: top;\n",
       "    }\n",
       "\n",
       "    .dataframe thead th {\n",
       "        text-align: right;\n",
       "    }\n",
       "</style>\n",
       "<table border=\"1\" class=\"dataframe\">\n",
       "  <thead>\n",
       "    <tr style=\"text-align: right;\">\n",
       "      <th></th>\n",
       "      <th>count</th>\n",
       "      <th>mean</th>\n",
       "      <th>std</th>\n",
       "      <th>min</th>\n",
       "      <th>25%</th>\n",
       "      <th>50%</th>\n",
       "      <th>75%</th>\n",
       "      <th>max</th>\n",
       "    </tr>\n",
       "  </thead>\n",
       "  <tbody>\n",
       "    <tr>\n",
       "      <th>Age</th>\n",
       "      <td>1014.0</td>\n",
       "      <td>29.871795</td>\n",
       "      <td>13.474386</td>\n",
       "      <td>10.0</td>\n",
       "      <td>19.0</td>\n",
       "      <td>26.0</td>\n",
       "      <td>39.0</td>\n",
       "      <td>70.0</td>\n",
       "    </tr>\n",
       "    <tr>\n",
       "      <th>SystolicBP</th>\n",
       "      <td>1014.0</td>\n",
       "      <td>113.198225</td>\n",
       "      <td>18.403913</td>\n",
       "      <td>70.0</td>\n",
       "      <td>100.0</td>\n",
       "      <td>120.0</td>\n",
       "      <td>120.0</td>\n",
       "      <td>160.0</td>\n",
       "    </tr>\n",
       "    <tr>\n",
       "      <th>DiastolicBP</th>\n",
       "      <td>1014.0</td>\n",
       "      <td>76.460552</td>\n",
       "      <td>13.885796</td>\n",
       "      <td>49.0</td>\n",
       "      <td>65.0</td>\n",
       "      <td>80.0</td>\n",
       "      <td>90.0</td>\n",
       "      <td>100.0</td>\n",
       "    </tr>\n",
       "    <tr>\n",
       "      <th>BS</th>\n",
       "      <td>1014.0</td>\n",
       "      <td>8.725986</td>\n",
       "      <td>3.293532</td>\n",
       "      <td>6.0</td>\n",
       "      <td>6.9</td>\n",
       "      <td>7.5</td>\n",
       "      <td>8.0</td>\n",
       "      <td>19.0</td>\n",
       "    </tr>\n",
       "    <tr>\n",
       "      <th>BodyTemp</th>\n",
       "      <td>1014.0</td>\n",
       "      <td>98.665089</td>\n",
       "      <td>1.371384</td>\n",
       "      <td>98.0</td>\n",
       "      <td>98.0</td>\n",
       "      <td>98.0</td>\n",
       "      <td>98.0</td>\n",
       "      <td>103.0</td>\n",
       "    </tr>\n",
       "    <tr>\n",
       "      <th>HeartRate</th>\n",
       "      <td>1014.0</td>\n",
       "      <td>74.301775</td>\n",
       "      <td>8.088702</td>\n",
       "      <td>7.0</td>\n",
       "      <td>70.0</td>\n",
       "      <td>76.0</td>\n",
       "      <td>80.0</td>\n",
       "      <td>90.0</td>\n",
       "    </tr>\n",
       "  </tbody>\n",
       "</table>\n",
       "</div>"
      ],
      "text/plain": [
       "              count        mean        std   min    25%    50%    75%    max\n",
       "Age          1014.0   29.871795  13.474386  10.0   19.0   26.0   39.0   70.0\n",
       "SystolicBP   1014.0  113.198225  18.403913  70.0  100.0  120.0  120.0  160.0\n",
       "DiastolicBP  1014.0   76.460552  13.885796  49.0   65.0   80.0   90.0  100.0\n",
       "BS           1014.0    8.725986   3.293532   6.0    6.9    7.5    8.0   19.0\n",
       "BodyTemp     1014.0   98.665089   1.371384  98.0   98.0   98.0   98.0  103.0\n",
       "HeartRate    1014.0   74.301775   8.088702   7.0   70.0   76.0   80.0   90.0"
      ]
     },
     "execution_count": 6,
     "metadata": {},
     "output_type": "execute_result"
    }
   ],
   "source": [
    "mhs_data.describe().T # overview of the data's central tendency, dispersion, and distribution"
   ]
  },
  {
   "cell_type": "markdown",
   "id": "bf68d1f1",
   "metadata": {},
   "source": [
    "### Unique values of each variable"
   ]
  },
  {
   "cell_type": "code",
   "execution_count": 7,
   "id": "89aea7e3",
   "metadata": {
    "scrolled": true
   },
   "outputs": [
    {
     "data": {
      "text/plain": [
       "array([25, 35, 29, 30, 23, 32, 42, 19, 20, 48, 15, 50, 10, 40, 21, 18, 16,\n",
       "       22, 49, 28, 12, 60, 55, 45, 31, 17, 26, 54, 44, 33, 13, 34, 38, 39,\n",
       "       63, 14, 37, 51, 62, 43, 65, 66, 56, 70, 27, 36, 59, 24, 41, 46],\n",
       "      dtype=int64)"
      ]
     },
     "execution_count": 7,
     "metadata": {},
     "output_type": "execute_result"
    }
   ],
   "source": [
    "mhs_data[\"Age\"].unique()"
   ]
  },
  {
   "cell_type": "code",
   "execution_count": 8,
   "id": "28577a08",
   "metadata": {
    "scrolled": true
   },
   "outputs": [
    {
     "data": {
      "text/plain": [
       "array([130, 140,  90, 120,  85, 110,  70, 100,  75,  95,  76,  80, 115,\n",
       "       135, 160, 129,  83,  99,  78], dtype=int64)"
      ]
     },
     "execution_count": 8,
     "metadata": {},
     "output_type": "execute_result"
    }
   ],
   "source": [
    "mhs_data[\"SystolicBP\"].unique()"
   ]
  },
  {
   "cell_type": "code",
   "execution_count": 9,
   "id": "b1d76b6c",
   "metadata": {
    "scrolled": true
   },
   "outputs": [
    {
     "data": {
      "text/plain": [
       "array([ 80,  90,  70,  85,  60,  89,  75, 100,  50,  65,  95,  49,  63,\n",
       "        69,  76,  68], dtype=int64)"
      ]
     },
     "execution_count": 9,
     "metadata": {},
     "output_type": "execute_result"
    }
   ],
   "source": [
    "mhs_data[\"DiastolicBP\"].unique()"
   ]
  },
  {
   "cell_type": "code",
   "execution_count": 10,
   "id": "2d502a0a",
   "metadata": {
    "scrolled": true
   },
   "outputs": [
    {
     "data": {
      "text/plain": [
       "array([15.  , 13.  ,  8.  ,  7.  ,  6.1 ,  7.01, 11.  ,  6.9 , 18.  ,\n",
       "        6.7 ,  7.5 ,  7.2 ,  7.1 ,  6.4 ,  9.  ,  6.  ,  7.7 , 12.  ,\n",
       "       16.  ,  7.8 ,  6.8 ,  7.9 , 17.  , 19.  , 10.  ,  6.3 ,  6.6 ,\n",
       "        6.5 ,  7.6 ])"
      ]
     },
     "execution_count": 10,
     "metadata": {},
     "output_type": "execute_result"
    }
   ],
   "source": [
    "mhs_data[\"BS\"].unique()"
   ]
  },
  {
   "cell_type": "code",
   "execution_count": 11,
   "id": "ac59a71c",
   "metadata": {
    "scrolled": true
   },
   "outputs": [
    {
     "data": {
      "text/plain": [
       "array([ 98. , 100. , 102. , 101. , 103. ,  98.4,  99. ,  98.6])"
      ]
     },
     "execution_count": 11,
     "metadata": {},
     "output_type": "execute_result"
    }
   ],
   "source": [
    "mhs_data[\"BodyTemp\"].unique()"
   ]
  },
  {
   "cell_type": "code",
   "execution_count": 12,
   "id": "62e410a2",
   "metadata": {
    "scrolled": false
   },
   "outputs": [
    {
     "data": {
      "text/plain": [
       "array([86, 70, 80, 76, 78, 77, 88, 90, 66, 82, 60, 75, 67, 65, 68,  7],\n",
       "      dtype=int64)"
      ]
     },
     "execution_count": 12,
     "metadata": {},
     "output_type": "execute_result"
    }
   ],
   "source": [
    "mhs_data[\"HeartRate\"].unique()"
   ]
  },
  {
   "cell_type": "code",
   "execution_count": 13,
   "id": "05bdca26",
   "metadata": {
    "scrolled": true
   },
   "outputs": [
    {
     "data": {
      "text/html": [
       "<div>\n",
       "<style scoped>\n",
       "    .dataframe tbody tr th:only-of-type {\n",
       "        vertical-align: middle;\n",
       "    }\n",
       "\n",
       "    .dataframe tbody tr th {\n",
       "        vertical-align: top;\n",
       "    }\n",
       "\n",
       "    .dataframe thead th {\n",
       "        text-align: right;\n",
       "    }\n",
       "</style>\n",
       "<table border=\"1\" class=\"dataframe\">\n",
       "  <thead>\n",
       "    <tr style=\"text-align: right;\">\n",
       "      <th></th>\n",
       "      <th>Age</th>\n",
       "      <th>SystolicBP</th>\n",
       "      <th>DiastolicBP</th>\n",
       "      <th>BS</th>\n",
       "      <th>BodyTemp</th>\n",
       "      <th>HeartRate</th>\n",
       "      <th>RiskLevel</th>\n",
       "    </tr>\n",
       "  </thead>\n",
       "  <tbody>\n",
       "    <tr>\n",
       "      <th>499</th>\n",
       "      <td>16</td>\n",
       "      <td>120</td>\n",
       "      <td>75</td>\n",
       "      <td>7.9</td>\n",
       "      <td>98.0</td>\n",
       "      <td>7</td>\n",
       "      <td>low risk</td>\n",
       "    </tr>\n",
       "    <tr>\n",
       "      <th>908</th>\n",
       "      <td>16</td>\n",
       "      <td>120</td>\n",
       "      <td>75</td>\n",
       "      <td>7.9</td>\n",
       "      <td>98.0</td>\n",
       "      <td>7</td>\n",
       "      <td>low risk</td>\n",
       "    </tr>\n",
       "  </tbody>\n",
       "</table>\n",
       "</div>"
      ],
      "text/plain": [
       "     Age  SystolicBP  DiastolicBP   BS  BodyTemp  HeartRate RiskLevel\n",
       "499   16         120           75  7.9      98.0          7  low risk\n",
       "908   16         120           75  7.9      98.0          7  low risk"
      ]
     },
     "execution_count": 13,
     "metadata": {},
     "output_type": "execute_result"
    }
   ],
   "source": [
    "mhs_data[mhs_data[\"HeartRate\"] == 7]"
   ]
  },
  {
   "cell_type": "code",
   "execution_count": 14,
   "id": "f820e1df",
   "metadata": {
    "scrolled": false
   },
   "outputs": [
    {
     "data": {
      "text/html": [
       "<div>\n",
       "<style scoped>\n",
       "    .dataframe tbody tr th:only-of-type {\n",
       "        vertical-align: middle;\n",
       "    }\n",
       "\n",
       "    .dataframe tbody tr th {\n",
       "        vertical-align: top;\n",
       "    }\n",
       "\n",
       "    .dataframe thead th {\n",
       "        text-align: right;\n",
       "    }\n",
       "</style>\n",
       "<table border=\"1\" class=\"dataframe\">\n",
       "  <thead>\n",
       "    <tr style=\"text-align: right;\">\n",
       "      <th></th>\n",
       "      <th>Age</th>\n",
       "      <th>SystolicBP</th>\n",
       "      <th>DiastolicBP</th>\n",
       "      <th>BS</th>\n",
       "      <th>BodyTemp</th>\n",
       "      <th>HeartRate</th>\n",
       "      <th>RiskLevel</th>\n",
       "    </tr>\n",
       "  </thead>\n",
       "  <tbody>\n",
       "    <tr>\n",
       "      <th>15</th>\n",
       "      <td>15</td>\n",
       "      <td>120</td>\n",
       "      <td>80</td>\n",
       "      <td>7.01</td>\n",
       "      <td>98.0</td>\n",
       "      <td>70</td>\n",
       "      <td>low risk</td>\n",
       "    </tr>\n",
       "    <tr>\n",
       "      <th>19</th>\n",
       "      <td>10</td>\n",
       "      <td>70</td>\n",
       "      <td>50</td>\n",
       "      <td>6.90</td>\n",
       "      <td>98.0</td>\n",
       "      <td>70</td>\n",
       "      <td>low risk</td>\n",
       "    </tr>\n",
       "    <tr>\n",
       "      <th>23</th>\n",
       "      <td>18</td>\n",
       "      <td>90</td>\n",
       "      <td>60</td>\n",
       "      <td>7.50</td>\n",
       "      <td>98.0</td>\n",
       "      <td>70</td>\n",
       "      <td>low risk</td>\n",
       "    </tr>\n",
       "    <tr>\n",
       "      <th>25</th>\n",
       "      <td>16</td>\n",
       "      <td>100</td>\n",
       "      <td>70</td>\n",
       "      <td>7.20</td>\n",
       "      <td>98.0</td>\n",
       "      <td>80</td>\n",
       "      <td>low risk</td>\n",
       "    </tr>\n",
       "    <tr>\n",
       "      <th>35</th>\n",
       "      <td>12</td>\n",
       "      <td>95</td>\n",
       "      <td>60</td>\n",
       "      <td>6.10</td>\n",
       "      <td>102.0</td>\n",
       "      <td>60</td>\n",
       "      <td>low risk</td>\n",
       "    </tr>\n",
       "    <tr>\n",
       "      <th>...</th>\n",
       "      <td>...</td>\n",
       "      <td>...</td>\n",
       "      <td>...</td>\n",
       "      <td>...</td>\n",
       "      <td>...</td>\n",
       "      <td>...</td>\n",
       "      <td>...</td>\n",
       "    </tr>\n",
       "    <tr>\n",
       "      <th>996</th>\n",
       "      <td>12</td>\n",
       "      <td>90</td>\n",
       "      <td>60</td>\n",
       "      <td>8.00</td>\n",
       "      <td>102.0</td>\n",
       "      <td>66</td>\n",
       "      <td>high risk</td>\n",
       "    </tr>\n",
       "    <tr>\n",
       "      <th>1000</th>\n",
       "      <td>12</td>\n",
       "      <td>90</td>\n",
       "      <td>60</td>\n",
       "      <td>11.00</td>\n",
       "      <td>102.0</td>\n",
       "      <td>60</td>\n",
       "      <td>high risk</td>\n",
       "    </tr>\n",
       "    <tr>\n",
       "      <th>1004</th>\n",
       "      <td>13</td>\n",
       "      <td>90</td>\n",
       "      <td>65</td>\n",
       "      <td>9.00</td>\n",
       "      <td>101.0</td>\n",
       "      <td>80</td>\n",
       "      <td>high risk</td>\n",
       "    </tr>\n",
       "    <tr>\n",
       "      <th>1005</th>\n",
       "      <td>17</td>\n",
       "      <td>90</td>\n",
       "      <td>65</td>\n",
       "      <td>7.70</td>\n",
       "      <td>103.0</td>\n",
       "      <td>67</td>\n",
       "      <td>high risk</td>\n",
       "    </tr>\n",
       "    <tr>\n",
       "      <th>1006</th>\n",
       "      <td>17</td>\n",
       "      <td>85</td>\n",
       "      <td>60</td>\n",
       "      <td>6.30</td>\n",
       "      <td>102.0</td>\n",
       "      <td>86</td>\n",
       "      <td>high risk</td>\n",
       "    </tr>\n",
       "  </tbody>\n",
       "</table>\n",
       "<p>212 rows × 7 columns</p>\n",
       "</div>"
      ],
      "text/plain": [
       "      Age  SystolicBP  DiastolicBP     BS  BodyTemp  HeartRate  RiskLevel\n",
       "15     15         120           80   7.01      98.0         70   low risk\n",
       "19     10          70           50   6.90      98.0         70   low risk\n",
       "23     18          90           60   7.50      98.0         70   low risk\n",
       "25     16         100           70   7.20      98.0         80   low risk\n",
       "35     12          95           60   6.10     102.0         60   low risk\n",
       "...   ...         ...          ...    ...       ...        ...        ...\n",
       "996    12          90           60   8.00     102.0         66  high risk\n",
       "1000   12          90           60  11.00     102.0         60  high risk\n",
       "1004   13          90           65   9.00     101.0         80  high risk\n",
       "1005   17          90           65   7.70     103.0         67  high risk\n",
       "1006   17          85           60   6.30     102.0         86  high risk\n",
       "\n",
       "[212 rows x 7 columns]"
      ]
     },
     "execution_count": 14,
     "metadata": {},
     "output_type": "execute_result"
    }
   ],
   "source": [
    "mhs_data[mhs_data[\"Age\"] < 19]"
   ]
  },
  {
   "cell_type": "code",
   "execution_count": 15,
   "id": "b225b838",
   "metadata": {},
   "outputs": [],
   "source": [
    "mhs_data[\"HeartRate\"] = mhs_data[\"HeartRate\"].replace(7, 70)"
   ]
  },
  {
   "cell_type": "code",
   "execution_count": 16,
   "id": "c4d426cf",
   "metadata": {
    "scrolled": false
   },
   "outputs": [
    {
     "data": {
      "text/plain": [
       "array(['high risk', 'low risk', 'mid risk'], dtype=object)"
      ]
     },
     "execution_count": 16,
     "metadata": {},
     "output_type": "execute_result"
    }
   ],
   "source": [
    "mhs_data[\"RiskLevel\"].unique()"
   ]
  },
  {
   "cell_type": "markdown",
   "id": "ecebff1e",
   "metadata": {},
   "source": [
    "### Checking for duplicated entries"
   ]
  },
  {
   "cell_type": "code",
   "execution_count": 17,
   "id": "13070cac",
   "metadata": {
    "scrolled": false
   },
   "outputs": [
    {
     "data": {
      "text/plain": [
       "562"
      ]
     },
     "execution_count": 17,
     "metadata": {},
     "output_type": "execute_result"
    }
   ],
   "source": [
    "mhs_data.duplicated().sum()"
   ]
  },
  {
   "cell_type": "markdown",
   "id": "0dc4a8be",
   "metadata": {},
   "source": [
    "#### Changing risk level datatype\n",
    "This means representing the health risk level in numerical forms"
   ]
  },
  {
   "cell_type": "code",
   "execution_count": 18,
   "id": "8ff26ea4",
   "metadata": {},
   "outputs": [
    {
     "name": "stdout",
     "output_type": "stream",
     "text": [
      "      Age  SystolicBP  DiastolicBP    BS  BodyTemp  HeartRate  RiskLevel  \\\n",
      "0      25         130           80  15.0      98.0         86  high risk   \n",
      "1      35         140           90  13.0      98.0         70  high risk   \n",
      "2      29          90           70   8.0     100.0         80  high risk   \n",
      "3      30         140           85   7.0      98.0         70  high risk   \n",
      "4      35         120           60   6.1      98.0         76   low risk   \n",
      "...   ...         ...          ...   ...       ...        ...        ...   \n",
      "1009   22         120           60  15.0      98.0         80  high risk   \n",
      "1010   55         120           90  18.0      98.0         60  high risk   \n",
      "1011   35          85           60  19.0      98.0         86  high risk   \n",
      "1012   43         120           90  18.0      98.0         70  high risk   \n",
      "1013   32         120           65   6.0     101.0         76   mid risk   \n",
      "\n",
      "      RiskLevel_high risk  RiskLevel_low risk  RiskLevel_mid risk  \n",
      "0                     1.0                 0.0                 0.0  \n",
      "1                     1.0                 0.0                 0.0  \n",
      "2                     1.0                 0.0                 0.0  \n",
      "3                     1.0                 0.0                 0.0  \n",
      "4                     0.0                 1.0                 0.0  \n",
      "...                   ...                 ...                 ...  \n",
      "1009                  1.0                 0.0                 0.0  \n",
      "1010                  1.0                 0.0                 0.0  \n",
      "1011                  1.0                 0.0                 0.0  \n",
      "1012                  1.0                 0.0                 0.0  \n",
      "1013                  0.0                 0.0                 1.0  \n",
      "\n",
      "[1014 rows x 10 columns]\n"
     ]
    }
   ],
   "source": [
    "df = pd.DataFrame(mhs_data)\n",
    "\n",
    "# Create a one hot encoder\n",
    "encoder = OneHotEncoder()\n",
    "\n",
    "# Fit and transform the data\n",
    "encoded_data = encoder.fit_transform(df[['RiskLevel']]).toarray()\n",
    "\n",
    "# Create a new dataframe with the encoded data\n",
    "encoded_df = pd.DataFrame(encoded_data, columns=encoder.get_feature_names_out())\n",
    "\n",
    "result = pd.concat([df, encoded_df], axis=1)\n",
    "\n",
    "# Display the result\n",
    "print(result)"
   ]
  },
  {
   "cell_type": "markdown",
   "id": "53e9f8cf",
   "metadata": {},
   "source": [
    "### Relationship between health data variables"
   ]
  },
  {
   "cell_type": "code",
   "execution_count": 19,
   "id": "404a3279",
   "metadata": {},
   "outputs": [
    {
     "name": "stdout",
     "output_type": "stream",
     "text": [
      "Age                    0.416045\n",
      "DiastolicBP            0.787006\n",
      "BS                     0.425172\n",
      "BodyTemp              -0.286616\n",
      "HeartRate             -0.018750\n",
      "RiskLevel_high risk    0.361948\n",
      "RiskLevel_low risk    -0.325681\n",
      "RiskLevel_mid risk    -0.001663\n",
      "Name: SystolicBP, dtype: float64\n"
     ]
    }
   ],
   "source": [
    "correlations = result.corr()['SystolicBP']\n",
    "correlations = correlations.drop('SystolicBP') # drop correlation with itself\n",
    "print(correlations)"
   ]
  },
  {
   "cell_type": "code",
   "execution_count": 20,
   "id": "46bf848a",
   "metadata": {},
   "outputs": [
    {
     "data": {
      "text/plain": [
       "<AxesSubplot:>"
      ]
     },
     "execution_count": 20,
     "metadata": {},
     "output_type": "execute_result"
    },
    {
     "data": {
      "image/png": "[encoded data removed]",
      "text/plain": [
       "<Figure size 1200x500 with 2 Axes>"
      ]
     },
     "metadata": {},
     "output_type": "display_data"
    }
   ],
   "source": [
    "plt.figure(figsize=(12,5))\n",
    "sns.heatmap(result.corr(), vmin=-1, vmax=1, annot=True)"
   ]
  },
  {
   "cell_type": "code",
   "execution_count": 21,
   "id": "1135a2fc",
   "metadata": {},
   "outputs": [
    {
     "data": {
      "text/html": [
       "<div>\n",
       "<style scoped>\n",
       "    .dataframe tbody tr th:only-of-type {\n",
       "        vertical-align: middle;\n",
       "    }\n",
       "\n",
       "    .dataframe tbody tr th {\n",
       "        vertical-align: top;\n",
       "    }\n",
       "\n",
       "    .dataframe thead th {\n",
       "        text-align: right;\n",
       "    }\n",
       "</style>\n",
       "<table border=\"1\" class=\"dataframe\">\n",
       "  <thead>\n",
       "    <tr style=\"text-align: right;\">\n",
       "      <th></th>\n",
       "      <th>Age</th>\n",
       "      <th>SystolicBP</th>\n",
       "      <th>DiastolicBP</th>\n",
       "      <th>BS</th>\n",
       "      <th>RiskLevel_high risk</th>\n",
       "      <th>RiskLevel_low risk</th>\n",
       "    </tr>\n",
       "  </thead>\n",
       "  <tbody>\n",
       "    <tr>\n",
       "      <th>0</th>\n",
       "      <td>25</td>\n",
       "      <td>130</td>\n",
       "      <td>80</td>\n",
       "      <td>15.0</td>\n",
       "      <td>1.0</td>\n",
       "      <td>0.0</td>\n",
       "    </tr>\n",
       "    <tr>\n",
       "      <th>1</th>\n",
       "      <td>35</td>\n",
       "      <td>140</td>\n",
       "      <td>90</td>\n",
       "      <td>13.0</td>\n",
       "      <td>1.0</td>\n",
       "      <td>0.0</td>\n",
       "    </tr>\n",
       "    <tr>\n",
       "      <th>2</th>\n",
       "      <td>29</td>\n",
       "      <td>90</td>\n",
       "      <td>70</td>\n",
       "      <td>8.0</td>\n",
       "      <td>1.0</td>\n",
       "      <td>0.0</td>\n",
       "    </tr>\n",
       "    <tr>\n",
       "      <th>3</th>\n",
       "      <td>30</td>\n",
       "      <td>140</td>\n",
       "      <td>85</td>\n",
       "      <td>7.0</td>\n",
       "      <td>1.0</td>\n",
       "      <td>0.0</td>\n",
       "    </tr>\n",
       "    <tr>\n",
       "      <th>4</th>\n",
       "      <td>35</td>\n",
       "      <td>120</td>\n",
       "      <td>60</td>\n",
       "      <td>6.1</td>\n",
       "      <td>0.0</td>\n",
       "      <td>1.0</td>\n",
       "    </tr>\n",
       "    <tr>\n",
       "      <th>...</th>\n",
       "      <td>...</td>\n",
       "      <td>...</td>\n",
       "      <td>...</td>\n",
       "      <td>...</td>\n",
       "      <td>...</td>\n",
       "      <td>...</td>\n",
       "    </tr>\n",
       "    <tr>\n",
       "      <th>1009</th>\n",
       "      <td>22</td>\n",
       "      <td>120</td>\n",
       "      <td>60</td>\n",
       "      <td>15.0</td>\n",
       "      <td>1.0</td>\n",
       "      <td>0.0</td>\n",
       "    </tr>\n",
       "    <tr>\n",
       "      <th>1010</th>\n",
       "      <td>55</td>\n",
       "      <td>120</td>\n",
       "      <td>90</td>\n",
       "      <td>18.0</td>\n",
       "      <td>1.0</td>\n",
       "      <td>0.0</td>\n",
       "    </tr>\n",
       "    <tr>\n",
       "      <th>1011</th>\n",
       "      <td>35</td>\n",
       "      <td>85</td>\n",
       "      <td>60</td>\n",
       "      <td>19.0</td>\n",
       "      <td>1.0</td>\n",
       "      <td>0.0</td>\n",
       "    </tr>\n",
       "    <tr>\n",
       "      <th>1012</th>\n",
       "      <td>43</td>\n",
       "      <td>120</td>\n",
       "      <td>90</td>\n",
       "      <td>18.0</td>\n",
       "      <td>1.0</td>\n",
       "      <td>0.0</td>\n",
       "    </tr>\n",
       "    <tr>\n",
       "      <th>1013</th>\n",
       "      <td>32</td>\n",
       "      <td>120</td>\n",
       "      <td>65</td>\n",
       "      <td>6.0</td>\n",
       "      <td>0.0</td>\n",
       "      <td>0.0</td>\n",
       "    </tr>\n",
       "  </tbody>\n",
       "</table>\n",
       "<p>1014 rows × 6 columns</p>\n",
       "</div>"
      ],
      "text/plain": [
       "      Age  SystolicBP  DiastolicBP    BS  RiskLevel_high risk  \\\n",
       "0      25         130           80  15.0                  1.0   \n",
       "1      35         140           90  13.0                  1.0   \n",
       "2      29          90           70   8.0                  1.0   \n",
       "3      30         140           85   7.0                  1.0   \n",
       "4      35         120           60   6.1                  0.0   \n",
       "...   ...         ...          ...   ...                  ...   \n",
       "1009   22         120           60  15.0                  1.0   \n",
       "1010   55         120           90  18.0                  1.0   \n",
       "1011   35          85           60  19.0                  1.0   \n",
       "1012   43         120           90  18.0                  1.0   \n",
       "1013   32         120           65   6.0                  0.0   \n",
       "\n",
       "      RiskLevel_low risk  \n",
       "0                    0.0  \n",
       "1                    0.0  \n",
       "2                    0.0  \n",
       "3                    0.0  \n",
       "4                    1.0  \n",
       "...                  ...  \n",
       "1009                 0.0  \n",
       "1010                 0.0  \n",
       "1011                 0.0  \n",
       "1012                 0.0  \n",
       "1013                 0.0  \n",
       "\n",
       "[1014 rows x 6 columns]"
      ]
     },
     "execution_count": 21,
     "metadata": {},
     "output_type": "execute_result"
    }
   ],
   "source": [
    "refined_data = result.drop([\"BodyTemp\",\"HeartRate\",\"RiskLevel_mid risk\",\"RiskLevel\"],axis = 1)\n",
    "refined_data"
   ]
  },
  {
   "cell_type": "markdown",
   "id": "2cf6701b",
   "metadata": {},
   "source": [
    "### Spliting target variable from the refined maternity health data"
   ]
  },
  {
   "cell_type": "code",
   "execution_count": 22,
   "id": "bf00d15b",
   "metadata": {},
   "outputs": [],
   "source": [
    "X = refined_data.drop(\"SystolicBP\",axis = 1) \n",
    "y = refined_data['SystolicBP'] "
   ]
  },
  {
   "cell_type": "code",
   "execution_count": 23,
   "id": "0162e128",
   "metadata": {},
   "outputs": [
    {
     "data": {
      "text/html": [
       "<div>\n",
       "<style scoped>\n",
       "    .dataframe tbody tr th:only-of-type {\n",
       "        vertical-align: middle;\n",
       "    }\n",
       "\n",
       "    .dataframe tbody tr th {\n",
       "        vertical-align: top;\n",
       "    }\n",
       "\n",
       "    .dataframe thead th {\n",
       "        text-align: right;\n",
       "    }\n",
       "</style>\n",
       "<table border=\"1\" class=\"dataframe\">\n",
       "  <thead>\n",
       "    <tr style=\"text-align: right;\">\n",
       "      <th></th>\n",
       "      <th>Age</th>\n",
       "      <th>DiastolicBP</th>\n",
       "      <th>BS</th>\n",
       "      <th>RiskLevel_high risk</th>\n",
       "      <th>RiskLevel_low risk</th>\n",
       "    </tr>\n",
       "  </thead>\n",
       "  <tbody>\n",
       "    <tr>\n",
       "      <th>0</th>\n",
       "      <td>25</td>\n",
       "      <td>80</td>\n",
       "      <td>15.0</td>\n",
       "      <td>1.0</td>\n",
       "      <td>0.0</td>\n",
       "    </tr>\n",
       "    <tr>\n",
       "      <th>1</th>\n",
       "      <td>35</td>\n",
       "      <td>90</td>\n",
       "      <td>13.0</td>\n",
       "      <td>1.0</td>\n",
       "      <td>0.0</td>\n",
       "    </tr>\n",
       "    <tr>\n",
       "      <th>2</th>\n",
       "      <td>29</td>\n",
       "      <td>70</td>\n",
       "      <td>8.0</td>\n",
       "      <td>1.0</td>\n",
       "      <td>0.0</td>\n",
       "    </tr>\n",
       "    <tr>\n",
       "      <th>3</th>\n",
       "      <td>30</td>\n",
       "      <td>85</td>\n",
       "      <td>7.0</td>\n",
       "      <td>1.0</td>\n",
       "      <td>0.0</td>\n",
       "    </tr>\n",
       "    <tr>\n",
       "      <th>4</th>\n",
       "      <td>35</td>\n",
       "      <td>60</td>\n",
       "      <td>6.1</td>\n",
       "      <td>0.0</td>\n",
       "      <td>1.0</td>\n",
       "    </tr>\n",
       "    <tr>\n",
       "      <th>...</th>\n",
       "      <td>...</td>\n",
       "      <td>...</td>\n",
       "      <td>...</td>\n",
       "      <td>...</td>\n",
       "      <td>...</td>\n",
       "    </tr>\n",
       "    <tr>\n",
       "      <th>1009</th>\n",
       "      <td>22</td>\n",
       "      <td>60</td>\n",
       "      <td>15.0</td>\n",
       "      <td>1.0</td>\n",
       "      <td>0.0</td>\n",
       "    </tr>\n",
       "    <tr>\n",
       "      <th>1010</th>\n",
       "      <td>55</td>\n",
       "      <td>90</td>\n",
       "      <td>18.0</td>\n",
       "      <td>1.0</td>\n",
       "      <td>0.0</td>\n",
       "    </tr>\n",
       "    <tr>\n",
       "      <th>1011</th>\n",
       "      <td>35</td>\n",
       "      <td>60</td>\n",
       "      <td>19.0</td>\n",
       "      <td>1.0</td>\n",
       "      <td>0.0</td>\n",
       "    </tr>\n",
       "    <tr>\n",
       "      <th>1012</th>\n",
       "      <td>43</td>\n",
       "      <td>90</td>\n",
       "      <td>18.0</td>\n",
       "      <td>1.0</td>\n",
       "      <td>0.0</td>\n",
       "    </tr>\n",
       "    <tr>\n",
       "      <th>1013</th>\n",
       "      <td>32</td>\n",
       "      <td>65</td>\n",
       "      <td>6.0</td>\n",
       "      <td>0.0</td>\n",
       "      <td>0.0</td>\n",
       "    </tr>\n",
       "  </tbody>\n",
       "</table>\n",
       "<p>1014 rows × 5 columns</p>\n",
       "</div>"
      ],
      "text/plain": [
       "      Age  DiastolicBP    BS  RiskLevel_high risk  RiskLevel_low risk\n",
       "0      25           80  15.0                  1.0                 0.0\n",
       "1      35           90  13.0                  1.0                 0.0\n",
       "2      29           70   8.0                  1.0                 0.0\n",
       "3      30           85   7.0                  1.0                 0.0\n",
       "4      35           60   6.1                  0.0                 1.0\n",
       "...   ...          ...   ...                  ...                 ...\n",
       "1009   22           60  15.0                  1.0                 0.0\n",
       "1010   55           90  18.0                  1.0                 0.0\n",
       "1011   35           60  19.0                  1.0                 0.0\n",
       "1012   43           90  18.0                  1.0                 0.0\n",
       "1013   32           65   6.0                  0.0                 0.0\n",
       "\n",
       "[1014 rows x 5 columns]"
      ]
     },
     "execution_count": 23,
     "metadata": {},
     "output_type": "execute_result"
    }
   ],
   "source": [
    "X # Independent variables "
   ]
  },
  {
   "cell_type": "code",
   "execution_count": 24,
   "id": "782fbe75",
   "metadata": {},
   "outputs": [
    {
     "data": {
      "text/plain": [
       "0       130\n",
       "1       140\n",
       "2        90\n",
       "3       140\n",
       "4       120\n",
       "       ... \n",
       "1009    120\n",
       "1010    120\n",
       "1011     85\n",
       "1012    120\n",
       "1013    120\n",
       "Name: SystolicBP, Length: 1014, dtype: int64"
      ]
     },
     "execution_count": 24,
     "metadata": {},
     "output_type": "execute_result"
    }
   ],
   "source": [
    "y # the target variable "
   ]
  },
  {
   "cell_type": "code",
   "execution_count": 25,
   "id": "753fd761",
   "metadata": {},
   "outputs": [],
   "source": [
    "X_train, X_test, y_train, y_test = train_test_split(X, y, test_size = 0.2, random_state = 42)\n",
    "X, y = X_train, y_train # Splits the train data and test data\n",
    "X_train, X_val, y_train, y_val = train_test_split(X, y, test_size = 0.2, random_state = 42)"
   ]
  },
  {
   "cell_type": "code",
   "execution_count": 26,
   "id": "f4b23ffa",
   "metadata": {},
   "outputs": [
    {
     "data": {
      "text/html": [
       "<div>\n",
       "<style scoped>\n",
       "    .dataframe tbody tr th:only-of-type {\n",
       "        vertical-align: middle;\n",
       "    }\n",
       "\n",
       "    .dataframe tbody tr th {\n",
       "        vertical-align: top;\n",
       "    }\n",
       "\n",
       "    .dataframe thead th {\n",
       "        text-align: right;\n",
       "    }\n",
       "</style>\n",
       "<table border=\"1\" class=\"dataframe\">\n",
       "  <thead>\n",
       "    <tr style=\"text-align: right;\">\n",
       "      <th></th>\n",
       "      <th>Age</th>\n",
       "      <th>DiastolicBP</th>\n",
       "      <th>BS</th>\n",
       "      <th>RiskLevel_high risk</th>\n",
       "      <th>RiskLevel_low risk</th>\n",
       "    </tr>\n",
       "  </thead>\n",
       "  <tbody>\n",
       "    <tr>\n",
       "      <th>367</th>\n",
       "      <td>35</td>\n",
       "      <td>100</td>\n",
       "      <td>7.80</td>\n",
       "      <td>1.0</td>\n",
       "      <td>0.0</td>\n",
       "    </tr>\n",
       "    <tr>\n",
       "      <th>437</th>\n",
       "      <td>29</td>\n",
       "      <td>70</td>\n",
       "      <td>10.00</td>\n",
       "      <td>1.0</td>\n",
       "      <td>0.0</td>\n",
       "    </tr>\n",
       "    <tr>\n",
       "      <th>711</th>\n",
       "      <td>30</td>\n",
       "      <td>80</td>\n",
       "      <td>6.90</td>\n",
       "      <td>0.0</td>\n",
       "      <td>0.0</td>\n",
       "    </tr>\n",
       "    <tr>\n",
       "      <th>945</th>\n",
       "      <td>22</td>\n",
       "      <td>85</td>\n",
       "      <td>7.50</td>\n",
       "      <td>0.0</td>\n",
       "      <td>1.0</td>\n",
       "    </tr>\n",
       "    <tr>\n",
       "      <th>563</th>\n",
       "      <td>17</td>\n",
       "      <td>65</td>\n",
       "      <td>7.50</td>\n",
       "      <td>0.0</td>\n",
       "      <td>1.0</td>\n",
       "    </tr>\n",
       "    <tr>\n",
       "      <th>...</th>\n",
       "      <td>...</td>\n",
       "      <td>...</td>\n",
       "      <td>...</td>\n",
       "      <td>...</td>\n",
       "      <td>...</td>\n",
       "    </tr>\n",
       "    <tr>\n",
       "      <th>451</th>\n",
       "      <td>48</td>\n",
       "      <td>90</td>\n",
       "      <td>15.00</td>\n",
       "      <td>1.0</td>\n",
       "      <td>0.0</td>\n",
       "    </tr>\n",
       "    <tr>\n",
       "      <th>328</th>\n",
       "      <td>35</td>\n",
       "      <td>70</td>\n",
       "      <td>6.90</td>\n",
       "      <td>0.0</td>\n",
       "      <td>1.0</td>\n",
       "    </tr>\n",
       "    <tr>\n",
       "      <th>644</th>\n",
       "      <td>25</td>\n",
       "      <td>100</td>\n",
       "      <td>15.00</td>\n",
       "      <td>1.0</td>\n",
       "      <td>0.0</td>\n",
       "    </tr>\n",
       "    <tr>\n",
       "      <th>852</th>\n",
       "      <td>23</td>\n",
       "      <td>70</td>\n",
       "      <td>7.01</td>\n",
       "      <td>0.0</td>\n",
       "      <td>0.0</td>\n",
       "    </tr>\n",
       "    <tr>\n",
       "      <th>177</th>\n",
       "      <td>54</td>\n",
       "      <td>100</td>\n",
       "      <td>15.00</td>\n",
       "      <td>1.0</td>\n",
       "      <td>0.0</td>\n",
       "    </tr>\n",
       "  </tbody>\n",
       "</table>\n",
       "<p>648 rows × 5 columns</p>\n",
       "</div>"
      ],
      "text/plain": [
       "     Age  DiastolicBP     BS  RiskLevel_high risk  RiskLevel_low risk\n",
       "367   35          100   7.80                  1.0                 0.0\n",
       "437   29           70  10.00                  1.0                 0.0\n",
       "711   30           80   6.90                  0.0                 0.0\n",
       "945   22           85   7.50                  0.0                 1.0\n",
       "563   17           65   7.50                  0.0                 1.0\n",
       "..   ...          ...    ...                  ...                 ...\n",
       "451   48           90  15.00                  1.0                 0.0\n",
       "328   35           70   6.90                  0.0                 1.0\n",
       "644   25          100  15.00                  1.0                 0.0\n",
       "852   23           70   7.01                  0.0                 0.0\n",
       "177   54          100  15.00                  1.0                 0.0\n",
       "\n",
       "[648 rows x 5 columns]"
      ]
     },
     "execution_count": 26,
     "metadata": {},
     "output_type": "execute_result"
    }
   ],
   "source": [
    "X_train"
   ]
  },
  {
   "cell_type": "code",
   "execution_count": 27,
   "id": "fc414a6e",
   "metadata": {},
   "outputs": [],
   "source": [
    "# Scaling the data using the MinMaxScaler library\n",
    "scaler = MinMaxScaler()\n",
    "X_train_scaled = scaler.fit_transform(X_train)\n",
    "X_test_scaled = scaler.transform(X_test)\n",
    "X_val_scaled = scaler.transform(X_val)"
   ]
  },
  {
   "cell_type": "code",
   "execution_count": 28,
   "id": "fa9cde69",
   "metadata": {},
   "outputs": [],
   "source": [
    "# Converting to pandas dataframe\n",
    "X_train_scaled = pd.DataFrame(X_train_scaled, columns = X_train.columns)\n",
    "X_test_scaled = pd.DataFrame(X_test_scaled, columns = X_test.columns)\n",
    "X_val_scaled = pd.DataFrame(X_val_scaled, columns = X_val.columns)"
   ]
  },
  {
   "cell_type": "markdown",
   "id": "803fd90e",
   "metadata": {},
   "source": [
    "## Building the model"
   ]
  },
  {
   "cell_type": "code",
   "execution_count": 29,
   "id": "63163359",
   "metadata": {},
   "outputs": [],
   "source": [
    "model = LinearRegression() # the Linear model"
   ]
  },
  {
   "cell_type": "code",
   "execution_count": 30,
   "id": "017737a4",
   "metadata": {},
   "outputs": [
    {
     "data": {
      "text/plain": [
       "LinearRegression()"
      ]
     },
     "execution_count": 30,
     "metadata": {},
     "output_type": "execute_result"
    }
   ],
   "source": [
    "# Build and fit the linear model\n",
    "lmodel = LinearRegression()\n",
    "lmodel.fit(X_train, y_train)"
   ]
  },
  {
   "cell_type": "code",
   "execution_count": 31,
   "id": "973d2369",
   "metadata": {},
   "outputs": [
    {
     "name": "stdout",
     "output_type": "stream",
     "text": [
      "The mean_absolute_error is: 8.55\n",
      "The root mean squared error is : 10.68\n",
      "The coefficient of determination is: 0.65\n"
     ]
    }
   ],
   "source": [
    "# This method is used to train and test the model and outputs the evaluation metrics\n",
    "def model_test(lmodel): # have multiple independent variables \n",
    "    lmodel.fit(X_train, y_train)\n",
    "    y_pred = lmodel.predict(X_test)\n",
    "    mean_abs = mean_absolute_error(y_test, y_pred)\n",
    "    mean_squared = mean_squared_error(y_test, y_pred)\n",
    "    print(f\"The mean_absolute_error is: {mean_abs:.2f}\")\n",
    "    print(f\"The root mean squared error is : {np.sqrt(mean_squared):.2f}\")\n",
    "    print(f\"The coefficient of determination is: {r2_score(y_test,y_pred):.2f}\")\n",
    "    \n",
    "model_test(lmodel)"
   ]
  },
  {
   "cell_type": "code",
   "execution_count": 32,
   "id": "61fe833e",
   "metadata": {},
   "outputs": [],
   "source": [
    "# Creating a function to build a linear regression model\n",
    "def linear_model(features, target):\n",
    "    # checking for the shape of features to ensure it is not 1.D\n",
    "    if len(features.shape) == 1:\n",
    "        features = features.to_numpy().reshape(-1,1)\n",
    "    else: \n",
    "        pass\n",
    "    # Creating a train-test split for the model\n",
    "    X_train, X_test, y_train, y_test = train_test_split(features, target, test_size = 0.2, random_state = 50)\n",
    "    \n",
    "    # scaling the features\n",
    "    scaler = MinMaxScaler()\n",
    "    X_train = scaler.fit_transform(X_train)\n",
    "    X_test = scaler.transform(X_test)\n",
    "    \n",
    "    # Building the linear regression model\n",
    "    lr = LinearRegression()\n",
    "    lr.fit(X_train, y_train)\n",
    "    y_pred = lr.predict(X_test)\n",
    "    mean_abs = mean_absolute_error(y_test, y_pred)\n",
    "    mean_squared = mean_squared_error(y_test, y_pred)\n",
    "    r2score = r2_score(y_test, y_pred)\n",
    "    \n",
    "    return (f'Mean absolute error is: {mean_abs:.2f}', f'Root mean squared error: {np.sqrt(mean_squared):.2f}', \n",
    "            f'coefficient of determination is: {r2score:.2f}')"
   ]
  },
  {
   "cell_type": "code",
   "execution_count": 33,
   "id": "3716ed91",
   "metadata": {},
   "outputs": [
    {
     "name": "stdout",
     "output_type": "stream",
     "text": [
      "The mean_absolute_error is: 8.55\n",
      "The root mean squared error is : 10.68\n",
      "The coefficient of determination is: 0.65\n"
     ]
    }
   ],
   "source": [
    "model_test(lmodel)"
   ]
  },
  {
   "cell_type": "markdown",
   "id": "8a8f36b5",
   "metadata": {},
   "source": [
    "## Principal Component Analysis (PCA)"
   ]
  },
  {
   "cell_type": "code",
   "execution_count": 34,
   "id": "67a40ceb",
   "metadata": {},
   "outputs": [],
   "source": [
    "# creating a fucntion to perform pca analysis on dataset and build a linear regression model with it\n",
    "def pca_model(features,target,n):\n",
    "    # creating a try and except block to handle incorrect no of compoments specified\n",
    "    try:\n",
    "        features = StandardScaler().fit_transform(features)\n",
    "        pca = PCA(n_components=n)       # specify the number of principled components\n",
    "        x_pca = pca.fit_transform(features)    # fit the model and transform the data to their new shape\n",
    "        \n",
    "        # per new dimension, see what % of variation in the dataset it accounts for...\n",
    "        percent_variance = np.round(pca.explained_variance_ratio_* 100, decimals =2)\n",
    "    \n",
    "        return (f\"percent_variance = {percent_variance}\", linear_model(x_pca, target))\n",
    "    \n",
    "    except:\n",
    "        n+=1\n",
    "        features = StandardScaler().fit_transform(features)\n",
    "        pca = PCA(n_components=n)\n",
    "        x_pca = pca.fit_transform(features)    \n",
    "    \n",
    "        # per new dimension, see what % of variation in the dataset it accounts for...\n",
    "        percent_variance = np.round(pca.explained_variance_ratio_* 100, decimals =2)\n",
    "        \n",
    "        return (f\"percent_variance = {percent_variance}\", linear_model(x_pca, target))\n",
    "    "
   ]
  },
  {
   "cell_type": "code",
   "execution_count": 35,
   "id": "263a9c68",
   "metadata": {},
   "outputs": [
    {
     "data": {
      "text/plain": [
       "('percent_variance = [51.91 19.02]',\n",
       " ('Mean absolute error is: 10.92',\n",
       "  'Root mean squared error: 12.47',\n",
       "  'coefficient of determination is: 0.53'))"
      ]
     },
     "execution_count": 35,
     "metadata": {},
     "output_type": "execute_result"
    }
   ],
   "source": [
    "# Applying the created pca model function on the dataset\n",
    "pca_model(X,y,2)"
   ]
  },
  {
   "cell_type": "markdown",
   "id": "eea08180",
   "metadata": {},
   "source": [
    "## Age Group and Mean Heartrate"
   ]
  },
  {
   "cell_type": "markdown",
   "id": "9f86fc1a",
   "metadata": {},
   "source": [
    "#### Age Intervals"
   ]
  },
  {
   "cell_type": "code",
   "execution_count": 36,
   "id": "4fc88d6f",
   "metadata": {},
   "outputs": [
    {
     "data": {
      "text/html": [
       "<div>\n",
       "<style scoped>\n",
       "    .dataframe tbody tr th:only-of-type {\n",
       "        vertical-align: middle;\n",
       "    }\n",
       "\n",
       "    .dataframe tbody tr th {\n",
       "        vertical-align: top;\n",
       "    }\n",
       "\n",
       "    .dataframe thead th {\n",
       "        text-align: right;\n",
       "    }\n",
       "</style>\n",
       "<table border=\"1\" class=\"dataframe\">\n",
       "  <thead>\n",
       "    <tr style=\"text-align: right;\">\n",
       "      <th></th>\n",
       "      <th>Age</th>\n",
       "      <th>SystolicBP</th>\n",
       "      <th>DiastolicBP</th>\n",
       "      <th>BS</th>\n",
       "      <th>BodyTemp</th>\n",
       "      <th>HeartRate</th>\n",
       "      <th>RiskLevel</th>\n",
       "      <th>Age_interval</th>\n",
       "    </tr>\n",
       "  </thead>\n",
       "  <tbody>\n",
       "    <tr>\n",
       "      <th>0</th>\n",
       "      <td>25</td>\n",
       "      <td>130</td>\n",
       "      <td>80</td>\n",
       "      <td>15.0</td>\n",
       "      <td>98.0</td>\n",
       "      <td>86</td>\n",
       "      <td>high risk</td>\n",
       "      <td>25-29</td>\n",
       "    </tr>\n",
       "    <tr>\n",
       "      <th>1</th>\n",
       "      <td>35</td>\n",
       "      <td>140</td>\n",
       "      <td>90</td>\n",
       "      <td>13.0</td>\n",
       "      <td>98.0</td>\n",
       "      <td>70</td>\n",
       "      <td>high risk</td>\n",
       "      <td>35-39</td>\n",
       "    </tr>\n",
       "    <tr>\n",
       "      <th>2</th>\n",
       "      <td>29</td>\n",
       "      <td>90</td>\n",
       "      <td>70</td>\n",
       "      <td>8.0</td>\n",
       "      <td>100.0</td>\n",
       "      <td>80</td>\n",
       "      <td>high risk</td>\n",
       "      <td>25-29</td>\n",
       "    </tr>\n",
       "    <tr>\n",
       "      <th>3</th>\n",
       "      <td>30</td>\n",
       "      <td>140</td>\n",
       "      <td>85</td>\n",
       "      <td>7.0</td>\n",
       "      <td>98.0</td>\n",
       "      <td>70</td>\n",
       "      <td>high risk</td>\n",
       "      <td>30-34</td>\n",
       "    </tr>\n",
       "    <tr>\n",
       "      <th>4</th>\n",
       "      <td>35</td>\n",
       "      <td>120</td>\n",
       "      <td>60</td>\n",
       "      <td>6.1</td>\n",
       "      <td>98.0</td>\n",
       "      <td>76</td>\n",
       "      <td>low risk</td>\n",
       "      <td>35-39</td>\n",
       "    </tr>\n",
       "    <tr>\n",
       "      <th>...</th>\n",
       "      <td>...</td>\n",
       "      <td>...</td>\n",
       "      <td>...</td>\n",
       "      <td>...</td>\n",
       "      <td>...</td>\n",
       "      <td>...</td>\n",
       "      <td>...</td>\n",
       "      <td>...</td>\n",
       "    </tr>\n",
       "    <tr>\n",
       "      <th>1009</th>\n",
       "      <td>22</td>\n",
       "      <td>120</td>\n",
       "      <td>60</td>\n",
       "      <td>15.0</td>\n",
       "      <td>98.0</td>\n",
       "      <td>80</td>\n",
       "      <td>high risk</td>\n",
       "      <td>19-24</td>\n",
       "    </tr>\n",
       "    <tr>\n",
       "      <th>1010</th>\n",
       "      <td>55</td>\n",
       "      <td>120</td>\n",
       "      <td>90</td>\n",
       "      <td>18.0</td>\n",
       "      <td>98.0</td>\n",
       "      <td>60</td>\n",
       "      <td>high risk</td>\n",
       "      <td>40+</td>\n",
       "    </tr>\n",
       "    <tr>\n",
       "      <th>1011</th>\n",
       "      <td>35</td>\n",
       "      <td>85</td>\n",
       "      <td>60</td>\n",
       "      <td>19.0</td>\n",
       "      <td>98.0</td>\n",
       "      <td>86</td>\n",
       "      <td>high risk</td>\n",
       "      <td>35-39</td>\n",
       "    </tr>\n",
       "    <tr>\n",
       "      <th>1012</th>\n",
       "      <td>43</td>\n",
       "      <td>120</td>\n",
       "      <td>90</td>\n",
       "      <td>18.0</td>\n",
       "      <td>98.0</td>\n",
       "      <td>70</td>\n",
       "      <td>high risk</td>\n",
       "      <td>40+</td>\n",
       "    </tr>\n",
       "    <tr>\n",
       "      <th>1013</th>\n",
       "      <td>32</td>\n",
       "      <td>120</td>\n",
       "      <td>65</td>\n",
       "      <td>6.0</td>\n",
       "      <td>101.0</td>\n",
       "      <td>76</td>\n",
       "      <td>mid risk</td>\n",
       "      <td>30-34</td>\n",
       "    </tr>\n",
       "  </tbody>\n",
       "</table>\n",
       "<p>1014 rows × 8 columns</p>\n",
       "</div>"
      ],
      "text/plain": [
       "      Age  SystolicBP  DiastolicBP    BS  BodyTemp  HeartRate  RiskLevel  \\\n",
       "0      25         130           80  15.0      98.0         86  high risk   \n",
       "1      35         140           90  13.0      98.0         70  high risk   \n",
       "2      29          90           70   8.0     100.0         80  high risk   \n",
       "3      30         140           85   7.0      98.0         70  high risk   \n",
       "4      35         120           60   6.1      98.0         76   low risk   \n",
       "...   ...         ...          ...   ...       ...        ...        ...   \n",
       "1009   22         120           60  15.0      98.0         80  high risk   \n",
       "1010   55         120           90  18.0      98.0         60  high risk   \n",
       "1011   35          85           60  19.0      98.0         86  high risk   \n",
       "1012   43         120           90  18.0      98.0         70  high risk   \n",
       "1013   32         120           65   6.0     101.0         76   mid risk   \n",
       "\n",
       "     Age_interval  \n",
       "0           25-29  \n",
       "1           35-39  \n",
       "2           25-29  \n",
       "3           30-34  \n",
       "4           35-39  \n",
       "...           ...  \n",
       "1009        19-24  \n",
       "1010          40+  \n",
       "1011        35-39  \n",
       "1012          40+  \n",
       "1013        30-34  \n",
       "\n",
       "[1014 rows x 8 columns]"
      ]
     },
     "execution_count": 36,
     "metadata": {},
     "output_type": "execute_result"
    }
   ],
   "source": [
    "# instantiating an age classification list to create age intervals\n",
    "age_grp = ['Under-19','19-24','25-29','30-34','35-39','40+']\n",
    "ranges = [10,19,24,29,34,39,100]\n",
    "\n",
    "# creating the age intervals using.cut() function\n",
    "mhs_data['Age_interval'] = pd.cut(mhs_data['Age'], bins=ranges, labels=age_grp,include_lowest=True)\n",
    "mhs_data"
   ]
  },
  {
   "cell_type": "code",
   "execution_count": 37,
   "id": "192b068c",
   "metadata": {
    "scrolled": true
   },
   "outputs": [],
   "source": [
    "Under_19 = mhs_data[mhs_data[\"Age\"] < 19].value_counts().sum()\n",
    "Aged_40_and_above = mhs_data[mhs_data[\"Age\"] > 39].value_counts().sum()"
   ]
  },
  {
   "cell_type": "code",
   "execution_count": 38,
   "id": "725312a4",
   "metadata": {},
   "outputs": [
    {
     "name": "stdout",
     "output_type": "stream",
     "text": [
      "212 people are aged under 19 years\n"
     ]
    }
   ],
   "source": [
    "print(Under_19, \"people are aged under 19 years\")"
   ]
  },
  {
   "cell_type": "code",
   "execution_count": 39,
   "id": "3d243afa",
   "metadata": {},
   "outputs": [
    {
     "name": "stdout",
     "output_type": "stream",
     "text": [
      "252 people are aged 40 years or more\n"
     ]
    }
   ],
   "source": [
    "print(Aged_40_and_above, \"people are aged 40 years or more\")"
   ]
  },
  {
   "cell_type": "code",
   "execution_count": 40,
   "id": "6c64b421",
   "metadata": {},
   "outputs": [],
   "source": [
    "# performing heart rate grouping per age interval\n",
    "age_group_heartrate = mhs_data.groupby(['Age_interval'])['HeartRate'].describe()\n",
    "\n",
    "# reseting the index to ensure Age interval is a column in the dataframe to make it easy for plotting\n",
    "age_group_heartrate.reset_index(inplace=True)"
   ]
  },
  {
   "cell_type": "code",
   "execution_count": 41,
   "id": "2504a4b1",
   "metadata": {},
   "outputs": [
    {
     "data": {
      "text/html": [
       "<div>\n",
       "<style scoped>\n",
       "    .dataframe tbody tr th:only-of-type {\n",
       "        vertical-align: middle;\n",
       "    }\n",
       "\n",
       "    .dataframe tbody tr th {\n",
       "        vertical-align: top;\n",
       "    }\n",
       "\n",
       "    .dataframe thead th {\n",
       "        text-align: right;\n",
       "    }\n",
       "</style>\n",
       "<table border=\"1\" class=\"dataframe\">\n",
       "  <thead>\n",
       "    <tr style=\"text-align: right;\">\n",
       "      <th></th>\n",
       "      <th>Age_interval</th>\n",
       "      <th>count</th>\n",
       "      <th>mean</th>\n",
       "      <th>std</th>\n",
       "      <th>min</th>\n",
       "      <th>25%</th>\n",
       "      <th>50%</th>\n",
       "      <th>75%</th>\n",
       "      <th>max</th>\n",
       "    </tr>\n",
       "  </thead>\n",
       "  <tbody>\n",
       "    <tr>\n",
       "      <th>0</th>\n",
       "      <td>Under-19</td>\n",
       "      <td>279.0</td>\n",
       "      <td>72.906810</td>\n",
       "      <td>6.698968</td>\n",
       "      <td>60.0</td>\n",
       "      <td>70.0</td>\n",
       "      <td>70.0</td>\n",
       "      <td>77.0</td>\n",
       "      <td>86.0</td>\n",
       "    </tr>\n",
       "    <tr>\n",
       "      <th>1</th>\n",
       "      <td>19-24</td>\n",
       "      <td>179.0</td>\n",
       "      <td>73.636872</td>\n",
       "      <td>7.751548</td>\n",
       "      <td>60.0</td>\n",
       "      <td>70.0</td>\n",
       "      <td>76.0</td>\n",
       "      <td>78.0</td>\n",
       "      <td>88.0</td>\n",
       "    </tr>\n",
       "    <tr>\n",
       "      <th>2</th>\n",
       "      <td>25-29</td>\n",
       "      <td>128.0</td>\n",
       "      <td>77.937500</td>\n",
       "      <td>6.179404</td>\n",
       "      <td>60.0</td>\n",
       "      <td>77.0</td>\n",
       "      <td>80.0</td>\n",
       "      <td>80.0</td>\n",
       "      <td>90.0</td>\n",
       "    </tr>\n",
       "    <tr>\n",
       "      <th>3</th>\n",
       "      <td>30-34</td>\n",
       "      <td>110.0</td>\n",
       "      <td>74.509091</td>\n",
       "      <td>5.392393</td>\n",
       "      <td>70.0</td>\n",
       "      <td>70.0</td>\n",
       "      <td>76.0</td>\n",
       "      <td>76.0</td>\n",
       "      <td>88.0</td>\n",
       "    </tr>\n",
       "    <tr>\n",
       "      <th>4</th>\n",
       "      <td>35-39</td>\n",
       "      <td>66.0</td>\n",
       "      <td>73.803030</td>\n",
       "      <td>9.277300</td>\n",
       "      <td>60.0</td>\n",
       "      <td>66.0</td>\n",
       "      <td>76.0</td>\n",
       "      <td>80.0</td>\n",
       "      <td>88.0</td>\n",
       "    </tr>\n",
       "    <tr>\n",
       "      <th>5</th>\n",
       "      <td>40+</td>\n",
       "      <td>252.0</td>\n",
       "      <td>75.011905</td>\n",
       "      <td>8.470470</td>\n",
       "      <td>60.0</td>\n",
       "      <td>70.0</td>\n",
       "      <td>76.0</td>\n",
       "      <td>80.0</td>\n",
       "      <td>90.0</td>\n",
       "    </tr>\n",
       "  </tbody>\n",
       "</table>\n",
       "</div>"
      ],
      "text/plain": [
       "  Age_interval  count       mean       std   min   25%   50%   75%   max\n",
       "0     Under-19  279.0  72.906810  6.698968  60.0  70.0  70.0  77.0  86.0\n",
       "1        19-24  179.0  73.636872  7.751548  60.0  70.0  76.0  78.0  88.0\n",
       "2        25-29  128.0  77.937500  6.179404  60.0  77.0  80.0  80.0  90.0\n",
       "3        30-34  110.0  74.509091  5.392393  70.0  70.0  76.0  76.0  88.0\n",
       "4        35-39   66.0  73.803030  9.277300  60.0  66.0  76.0  80.0  88.0\n",
       "5          40+  252.0  75.011905  8.470470  60.0  70.0  76.0  80.0  90.0"
      ]
     },
     "execution_count": 41,
     "metadata": {},
     "output_type": "execute_result"
    }
   ],
   "source": [
    "age_group_heartrate"
   ]
  },
  {
   "cell_type": "code",
   "execution_count": 42,
   "id": "5957b583",
   "metadata": {},
   "outputs": [
    {
     "data": {
      "image/png": "[encoded data removed]",
      "text/plain": [
       "<Figure size 1000x600 with 1 Axes>"
      ]
     },
     "metadata": {},
     "output_type": "display_data"
    }
   ],
   "source": [
    "# setting the plot figure size\n",
    "plt.figure(figsize=(10,6)) \n",
    "\n",
    "# instantiating the plot function and its title using .set()\n",
    "heart_rate_plt = sns.lineplot(data=age_group_heartrate, x='Age_interval', y='mean', marker='o', \n",
    "                              markersize=8).set_title('Graph showing age interval against mean heartrate')\n",
    "\n",
    "heart_rate_plt.get_figure().savefig('Heart rate plot.png') # saving the plot"
   ]
  },
  {
   "cell_type": "markdown",
   "id": "b8607aa9",
   "metadata": {},
   "source": [
    "## Analyzing Blood pressure (Diastolic and Systolic)"
   ]
  },
  {
   "cell_type": "code",
   "execution_count": 43,
   "id": "0275c898",
   "metadata": {},
   "outputs": [],
   "source": [
    "# creating a function to iterate through the blood presure columns and label it\n",
    "def blood_pressure_label(df,column):\n",
    "        a = np.array([]) # instantiating an array to fill i the labels generated\n",
    "        if column == 'SystolicBP':\n",
    "            for i in df[column]: # iterating through the specified column to label the values identified\n",
    "                if i < 110:\n",
    "                    a = np.append(a,'low')\n",
    "                elif i in range(110,140):\n",
    "                    a = np.append(a,'normal')\n",
    "                elif i > 139:\n",
    "                    a = np.append(a,'high')\n",
    "        elif column == 'DiastolicBP':\n",
    "            for i in df[column]:\n",
    "                if i < 70:\n",
    "                    a = np.append(a,'low')\n",
    "                elif i in range(70,90):\n",
    "                    a = np.append(a,'normal')\n",
    "                elif i > 89:\n",
    "                    a = np.append(a,'high')\n",
    "        return a"
   ]
  },
  {
   "cell_type": "code",
   "execution_count": 44,
   "id": "9ed76e56",
   "metadata": {},
   "outputs": [],
   "source": [
    "def categorize_bp(row):\n",
    "    if row['SystolicBP'] >= 140 and row['DiastolicBP'] >= 90:\n",
    "        return 'high/high'\n",
    "    elif 110 <= row['SystolicBP'] < 140 and 70 <= row['DiastolicBP'] < 90:\n",
    "        return 'normal/normal'\n",
    "    elif row['SystolicBP'] < 110 and row['DiastolicBP'] < 70:\n",
    "        return 'low/low'\n",
    "    else:\n",
    "        return 'other'"
   ]
  },
  {
   "cell_type": "code",
   "execution_count": 45,
   "id": "a0c8f1a9",
   "metadata": {},
   "outputs": [
    {
     "data": {
      "text/html": [
       "<div>\n",
       "<style scoped>\n",
       "    .dataframe tbody tr th:only-of-type {\n",
       "        vertical-align: middle;\n",
       "    }\n",
       "\n",
       "    .dataframe tbody tr th {\n",
       "        vertical-align: top;\n",
       "    }\n",
       "\n",
       "    .dataframe thead th {\n",
       "        text-align: right;\n",
       "    }\n",
       "</style>\n",
       "<table border=\"1\" class=\"dataframe\">\n",
       "  <thead>\n",
       "    <tr style=\"text-align: right;\">\n",
       "      <th></th>\n",
       "      <th>Age</th>\n",
       "      <th>SystolicBP</th>\n",
       "      <th>DiastolicBP</th>\n",
       "      <th>BS</th>\n",
       "      <th>BodyTemp</th>\n",
       "      <th>HeartRate</th>\n",
       "      <th>RiskLevel</th>\n",
       "      <th>Age_interval</th>\n",
       "      <th>SystolicBP_label</th>\n",
       "      <th>DiastolicBP_label</th>\n",
       "    </tr>\n",
       "  </thead>\n",
       "  <tbody>\n",
       "    <tr>\n",
       "      <th>0</th>\n",
       "      <td>25</td>\n",
       "      <td>130</td>\n",
       "      <td>80</td>\n",
       "      <td>15.0</td>\n",
       "      <td>98.0</td>\n",
       "      <td>86</td>\n",
       "      <td>high risk</td>\n",
       "      <td>25-29</td>\n",
       "      <td>normal</td>\n",
       "      <td>normal</td>\n",
       "    </tr>\n",
       "    <tr>\n",
       "      <th>1</th>\n",
       "      <td>35</td>\n",
       "      <td>140</td>\n",
       "      <td>90</td>\n",
       "      <td>13.0</td>\n",
       "      <td>98.0</td>\n",
       "      <td>70</td>\n",
       "      <td>high risk</td>\n",
       "      <td>35-39</td>\n",
       "      <td>high</td>\n",
       "      <td>high</td>\n",
       "    </tr>\n",
       "    <tr>\n",
       "      <th>2</th>\n",
       "      <td>29</td>\n",
       "      <td>90</td>\n",
       "      <td>70</td>\n",
       "      <td>8.0</td>\n",
       "      <td>100.0</td>\n",
       "      <td>80</td>\n",
       "      <td>high risk</td>\n",
       "      <td>25-29</td>\n",
       "      <td>low</td>\n",
       "      <td>normal</td>\n",
       "    </tr>\n",
       "    <tr>\n",
       "      <th>3</th>\n",
       "      <td>30</td>\n",
       "      <td>140</td>\n",
       "      <td>85</td>\n",
       "      <td>7.0</td>\n",
       "      <td>98.0</td>\n",
       "      <td>70</td>\n",
       "      <td>high risk</td>\n",
       "      <td>30-34</td>\n",
       "      <td>high</td>\n",
       "      <td>normal</td>\n",
       "    </tr>\n",
       "    <tr>\n",
       "      <th>4</th>\n",
       "      <td>35</td>\n",
       "      <td>120</td>\n",
       "      <td>60</td>\n",
       "      <td>6.1</td>\n",
       "      <td>98.0</td>\n",
       "      <td>76</td>\n",
       "      <td>low risk</td>\n",
       "      <td>35-39</td>\n",
       "      <td>normal</td>\n",
       "      <td>low</td>\n",
       "    </tr>\n",
       "    <tr>\n",
       "      <th>...</th>\n",
       "      <td>...</td>\n",
       "      <td>...</td>\n",
       "      <td>...</td>\n",
       "      <td>...</td>\n",
       "      <td>...</td>\n",
       "      <td>...</td>\n",
       "      <td>...</td>\n",
       "      <td>...</td>\n",
       "      <td>...</td>\n",
       "      <td>...</td>\n",
       "    </tr>\n",
       "    <tr>\n",
       "      <th>1009</th>\n",
       "      <td>22</td>\n",
       "      <td>120</td>\n",
       "      <td>60</td>\n",
       "      <td>15.0</td>\n",
       "      <td>98.0</td>\n",
       "      <td>80</td>\n",
       "      <td>high risk</td>\n",
       "      <td>19-24</td>\n",
       "      <td>normal</td>\n",
       "      <td>low</td>\n",
       "    </tr>\n",
       "    <tr>\n",
       "      <th>1010</th>\n",
       "      <td>55</td>\n",
       "      <td>120</td>\n",
       "      <td>90</td>\n",
       "      <td>18.0</td>\n",
       "      <td>98.0</td>\n",
       "      <td>60</td>\n",
       "      <td>high risk</td>\n",
       "      <td>40+</td>\n",
       "      <td>normal</td>\n",
       "      <td>high</td>\n",
       "    </tr>\n",
       "    <tr>\n",
       "      <th>1011</th>\n",
       "      <td>35</td>\n",
       "      <td>85</td>\n",
       "      <td>60</td>\n",
       "      <td>19.0</td>\n",
       "      <td>98.0</td>\n",
       "      <td>86</td>\n",
       "      <td>high risk</td>\n",
       "      <td>35-39</td>\n",
       "      <td>low</td>\n",
       "      <td>low</td>\n",
       "    </tr>\n",
       "    <tr>\n",
       "      <th>1012</th>\n",
       "      <td>43</td>\n",
       "      <td>120</td>\n",
       "      <td>90</td>\n",
       "      <td>18.0</td>\n",
       "      <td>98.0</td>\n",
       "      <td>70</td>\n",
       "      <td>high risk</td>\n",
       "      <td>40+</td>\n",
       "      <td>normal</td>\n",
       "      <td>high</td>\n",
       "    </tr>\n",
       "    <tr>\n",
       "      <th>1013</th>\n",
       "      <td>32</td>\n",
       "      <td>120</td>\n",
       "      <td>65</td>\n",
       "      <td>6.0</td>\n",
       "      <td>101.0</td>\n",
       "      <td>76</td>\n",
       "      <td>mid risk</td>\n",
       "      <td>30-34</td>\n",
       "      <td>normal</td>\n",
       "      <td>low</td>\n",
       "    </tr>\n",
       "  </tbody>\n",
       "</table>\n",
       "<p>1014 rows × 10 columns</p>\n",
       "</div>"
      ],
      "text/plain": [
       "      Age  SystolicBP  DiastolicBP    BS  BodyTemp  HeartRate  RiskLevel  \\\n",
       "0      25         130           80  15.0      98.0         86  high risk   \n",
       "1      35         140           90  13.0      98.0         70  high risk   \n",
       "2      29          90           70   8.0     100.0         80  high risk   \n",
       "3      30         140           85   7.0      98.0         70  high risk   \n",
       "4      35         120           60   6.1      98.0         76   low risk   \n",
       "...   ...         ...          ...   ...       ...        ...        ...   \n",
       "1009   22         120           60  15.0      98.0         80  high risk   \n",
       "1010   55         120           90  18.0      98.0         60  high risk   \n",
       "1011   35          85           60  19.0      98.0         86  high risk   \n",
       "1012   43         120           90  18.0      98.0         70  high risk   \n",
       "1013   32         120           65   6.0     101.0         76   mid risk   \n",
       "\n",
       "     Age_interval SystolicBP_label DiastolicBP_label  \n",
       "0           25-29           normal            normal  \n",
       "1           35-39             high              high  \n",
       "2           25-29              low            normal  \n",
       "3           30-34             high            normal  \n",
       "4           35-39           normal               low  \n",
       "...           ...              ...               ...  \n",
       "1009        19-24           normal               low  \n",
       "1010          40+           normal              high  \n",
       "1011        35-39              low               low  \n",
       "1012          40+           normal              high  \n",
       "1013        30-34           normal               low  \n",
       "\n",
       "[1014 rows x 10 columns]"
      ]
     },
     "execution_count": 45,
     "metadata": {},
     "output_type": "execute_result"
    }
   ],
   "source": [
    "# creating new columns to house the labelled blood pressure values\n",
    "mhs_data['SystolicBP_label'] = blood_pressure_label(result, 'SystolicBP')\n",
    "mhs_data['DiastolicBP_label'] = blood_pressure_label(result, 'DiastolicBP')\n",
    "mhs_data"
   ]
  },
  {
   "cell_type": "code",
   "execution_count": 46,
   "id": "19e44803",
   "metadata": {},
   "outputs": [
    {
     "data": {
      "text/html": [
       "<div>\n",
       "<style scoped>\n",
       "    .dataframe tbody tr th:only-of-type {\n",
       "        vertical-align: middle;\n",
       "    }\n",
       "\n",
       "    .dataframe tbody tr th {\n",
       "        vertical-align: top;\n",
       "    }\n",
       "\n",
       "    .dataframe thead th {\n",
       "        text-align: right;\n",
       "    }\n",
       "</style>\n",
       "<table border=\"1\" class=\"dataframe\">\n",
       "  <thead>\n",
       "    <tr style=\"text-align: right;\">\n",
       "      <th></th>\n",
       "      <th>SystolicBP_high</th>\n",
       "      <th>SystolicBP_low</th>\n",
       "      <th>SystolicBP_normal</th>\n",
       "      <th>DiastolicBP_high</th>\n",
       "      <th>DiastolicBP_low</th>\n",
       "      <th>DiastolicBP_normal</th>\n",
       "    </tr>\n",
       "  </thead>\n",
       "  <tbody>\n",
       "    <tr>\n",
       "      <th>0</th>\n",
       "      <td>0</td>\n",
       "      <td>0</td>\n",
       "      <td>1</td>\n",
       "      <td>0</td>\n",
       "      <td>0</td>\n",
       "      <td>1</td>\n",
       "    </tr>\n",
       "    <tr>\n",
       "      <th>1</th>\n",
       "      <td>1</td>\n",
       "      <td>0</td>\n",
       "      <td>0</td>\n",
       "      <td>1</td>\n",
       "      <td>0</td>\n",
       "      <td>0</td>\n",
       "    </tr>\n",
       "    <tr>\n",
       "      <th>2</th>\n",
       "      <td>0</td>\n",
       "      <td>1</td>\n",
       "      <td>0</td>\n",
       "      <td>0</td>\n",
       "      <td>0</td>\n",
       "      <td>1</td>\n",
       "    </tr>\n",
       "    <tr>\n",
       "      <th>3</th>\n",
       "      <td>1</td>\n",
       "      <td>0</td>\n",
       "      <td>0</td>\n",
       "      <td>0</td>\n",
       "      <td>0</td>\n",
       "      <td>1</td>\n",
       "    </tr>\n",
       "    <tr>\n",
       "      <th>4</th>\n",
       "      <td>0</td>\n",
       "      <td>0</td>\n",
       "      <td>1</td>\n",
       "      <td>0</td>\n",
       "      <td>1</td>\n",
       "      <td>0</td>\n",
       "    </tr>\n",
       "    <tr>\n",
       "      <th>...</th>\n",
       "      <td>...</td>\n",
       "      <td>...</td>\n",
       "      <td>...</td>\n",
       "      <td>...</td>\n",
       "      <td>...</td>\n",
       "      <td>...</td>\n",
       "    </tr>\n",
       "    <tr>\n",
       "      <th>1009</th>\n",
       "      <td>0</td>\n",
       "      <td>0</td>\n",
       "      <td>1</td>\n",
       "      <td>0</td>\n",
       "      <td>1</td>\n",
       "      <td>0</td>\n",
       "    </tr>\n",
       "    <tr>\n",
       "      <th>1010</th>\n",
       "      <td>0</td>\n",
       "      <td>0</td>\n",
       "      <td>1</td>\n",
       "      <td>1</td>\n",
       "      <td>0</td>\n",
       "      <td>0</td>\n",
       "    </tr>\n",
       "    <tr>\n",
       "      <th>1011</th>\n",
       "      <td>0</td>\n",
       "      <td>1</td>\n",
       "      <td>0</td>\n",
       "      <td>0</td>\n",
       "      <td>1</td>\n",
       "      <td>0</td>\n",
       "    </tr>\n",
       "    <tr>\n",
       "      <th>1012</th>\n",
       "      <td>0</td>\n",
       "      <td>0</td>\n",
       "      <td>1</td>\n",
       "      <td>1</td>\n",
       "      <td>0</td>\n",
       "      <td>0</td>\n",
       "    </tr>\n",
       "    <tr>\n",
       "      <th>1013</th>\n",
       "      <td>0</td>\n",
       "      <td>0</td>\n",
       "      <td>1</td>\n",
       "      <td>0</td>\n",
       "      <td>1</td>\n",
       "      <td>0</td>\n",
       "    </tr>\n",
       "  </tbody>\n",
       "</table>\n",
       "<p>1014 rows × 6 columns</p>\n",
       "</div>"
      ],
      "text/plain": [
       "      SystolicBP_high  SystolicBP_low  SystolicBP_normal  DiastolicBP_high  \\\n",
       "0                   0               0                  1                 0   \n",
       "1                   1               0                  0                 1   \n",
       "2                   0               1                  0                 0   \n",
       "3                   1               0                  0                 0   \n",
       "4                   0               0                  1                 0   \n",
       "...               ...             ...                ...               ...   \n",
       "1009                0               0                  1                 0   \n",
       "1010                0               0                  1                 1   \n",
       "1011                0               1                  0                 0   \n",
       "1012                0               0                  1                 1   \n",
       "1013                0               0                  1                 0   \n",
       "\n",
       "      DiastolicBP_low  DiastolicBP_normal  \n",
       "0                   0                   1  \n",
       "1                   0                   0  \n",
       "2                   0                   1  \n",
       "3                   0                   1  \n",
       "4                   1                   0  \n",
       "...               ...                 ...  \n",
       "1009                1                   0  \n",
       "1010                0                   0  \n",
       "1011                1                   0  \n",
       "1012                0                   0  \n",
       "1013                1                   0  \n",
       "\n",
       "[1014 rows x 6 columns]"
      ]
     },
     "execution_count": 46,
     "metadata": {},
     "output_type": "execute_result"
    }
   ],
   "source": [
    "# one hot encoding blod pressure labelle columns in preparation for association rules mining\n",
    "systolic_bp = pd.get_dummies(mhs_data.SystolicBP_label, prefix='SystolicBP')\n",
    "diastolic_bp = pd.get_dummies(mhs_data.DiastolicBP_label, prefix='DiastolicBP')\n",
    "\n",
    "# creating a dataframe of the one hot encoded varaibles\n",
    "new_df = pd.concat([systolic_bp, diastolic_bp], axis=1)\n",
    "new_df"
   ]
  },
  {
   "cell_type": "markdown",
   "id": "12cc56c3",
   "metadata": {},
   "source": [
    "## Association Pairs of blood pressures"
   ]
  },
  {
   "cell_type": "code",
   "execution_count": 47,
   "id": "efc259c9",
   "metadata": {
    "scrolled": true
   },
   "outputs": [
    {
     "name": "stderr",
     "output_type": "stream",
     "text": [
      "C:\\Users\\DELL\\anaconda3\\lib\\site-packages\\mlxtend\\frequent_patterns\\fpcommon.py:111: DeprecationWarning: DataFrames with non-bool types result in worse computationalperformance and their support might be discontinued in the future.Please use a DataFrame with bool type\n",
      "  warnings.warn(\n"
     ]
    },
    {
     "data": {
      "text/html": [
       "<div>\n",
       "<style scoped>\n",
       "    .dataframe tbody tr th:only-of-type {\n",
       "        vertical-align: middle;\n",
       "    }\n",
       "\n",
       "    .dataframe tbody tr th {\n",
       "        vertical-align: top;\n",
       "    }\n",
       "\n",
       "    .dataframe thead th {\n",
       "        text-align: right;\n",
       "    }\n",
       "</style>\n",
       "<table border=\"1\" class=\"dataframe\">\n",
       "  <thead>\n",
       "    <tr style=\"text-align: right;\">\n",
       "      <th></th>\n",
       "      <th>support</th>\n",
       "      <th>itemsets</th>\n",
       "    </tr>\n",
       "  </thead>\n",
       "  <tbody>\n",
       "    <tr>\n",
       "      <th>0</th>\n",
       "      <td>0.128205</td>\n",
       "      <td>(SystolicBP_high)</td>\n",
       "    </tr>\n",
       "    <tr>\n",
       "      <th>1</th>\n",
       "      <td>0.339250</td>\n",
       "      <td>(SystolicBP_low)</td>\n",
       "    </tr>\n",
       "    <tr>\n",
       "      <th>2</th>\n",
       "      <td>0.532544</td>\n",
       "      <td>(SystolicBP_normal)</td>\n",
       "    </tr>\n",
       "    <tr>\n",
       "      <th>3</th>\n",
       "      <td>0.272189</td>\n",
       "      <td>(DiastolicBP_high)</td>\n",
       "    </tr>\n",
       "    <tr>\n",
       "      <th>4</th>\n",
       "      <td>0.316568</td>\n",
       "      <td>(DiastolicBP_low)</td>\n",
       "    </tr>\n",
       "    <tr>\n",
       "      <th>5</th>\n",
       "      <td>0.411243</td>\n",
       "      <td>(DiastolicBP_normal)</td>\n",
       "    </tr>\n",
       "    <tr>\n",
       "      <th>6</th>\n",
       "      <td>0.115385</td>\n",
       "      <td>(SystolicBP_high, DiastolicBP_high)</td>\n",
       "    </tr>\n",
       "    <tr>\n",
       "      <th>7</th>\n",
       "      <td>0.266272</td>\n",
       "      <td>(DiastolicBP_low, SystolicBP_low)</td>\n",
       "    </tr>\n",
       "    <tr>\n",
       "      <th>8</th>\n",
       "      <td>0.146943</td>\n",
       "      <td>(DiastolicBP_high, SystolicBP_normal)</td>\n",
       "    </tr>\n",
       "    <tr>\n",
       "      <th>9</th>\n",
       "      <td>0.335306</td>\n",
       "      <td>(DiastolicBP_normal, SystolicBP_normal)</td>\n",
       "    </tr>\n",
       "  </tbody>\n",
       "</table>\n",
       "</div>"
      ],
      "text/plain": [
       "    support                                 itemsets\n",
       "0  0.128205                        (SystolicBP_high)\n",
       "1  0.339250                         (SystolicBP_low)\n",
       "2  0.532544                      (SystolicBP_normal)\n",
       "3  0.272189                       (DiastolicBP_high)\n",
       "4  0.316568                        (DiastolicBP_low)\n",
       "5  0.411243                     (DiastolicBP_normal)\n",
       "6  0.115385      (SystolicBP_high, DiastolicBP_high)\n",
       "7  0.266272        (DiastolicBP_low, SystolicBP_low)\n",
       "8  0.146943    (DiastolicBP_high, SystolicBP_normal)\n",
       "9  0.335306  (DiastolicBP_normal, SystolicBP_normal)"
      ]
     },
     "execution_count": 47,
     "metadata": {},
     "output_type": "execute_result"
    }
   ],
   "source": [
    "freq_itemset = apriori(new_df,min_support=0.1, use_colnames=True)\n",
    "freq_itemset"
   ]
  },
  {
   "cell_type": "code",
   "execution_count": 48,
   "id": "4e1c5bee",
   "metadata": {},
   "outputs": [
    {
     "data": {
      "text/html": [
       "<div>\n",
       "<style scoped>\n",
       "    .dataframe tbody tr th:only-of-type {\n",
       "        vertical-align: middle;\n",
       "    }\n",
       "\n",
       "    .dataframe tbody tr th {\n",
       "        vertical-align: top;\n",
       "    }\n",
       "\n",
       "    .dataframe thead th {\n",
       "        text-align: right;\n",
       "    }\n",
       "</style>\n",
       "<table border=\"1\" class=\"dataframe\">\n",
       "  <thead>\n",
       "    <tr style=\"text-align: right;\">\n",
       "      <th></th>\n",
       "      <th>antecedents</th>\n",
       "      <th>consequents</th>\n",
       "      <th>antecedent support</th>\n",
       "      <th>consequent support</th>\n",
       "      <th>support</th>\n",
       "      <th>confidence</th>\n",
       "      <th>lift</th>\n",
       "      <th>leverage</th>\n",
       "      <th>conviction</th>\n",
       "    </tr>\n",
       "  </thead>\n",
       "  <tbody>\n",
       "    <tr>\n",
       "      <th>0</th>\n",
       "      <td>(SystolicBP_high)</td>\n",
       "      <td>(DiastolicBP_high)</td>\n",
       "      <td>0.128205</td>\n",
       "      <td>0.272189</td>\n",
       "      <td>0.115385</td>\n",
       "      <td>0.900000</td>\n",
       "      <td>3.306522</td>\n",
       "      <td>0.080489</td>\n",
       "      <td>7.278107</td>\n",
       "    </tr>\n",
       "    <tr>\n",
       "      <th>1</th>\n",
       "      <td>(DiastolicBP_high)</td>\n",
       "      <td>(SystolicBP_high)</td>\n",
       "      <td>0.272189</td>\n",
       "      <td>0.128205</td>\n",
       "      <td>0.115385</td>\n",
       "      <td>0.423913</td>\n",
       "      <td>3.306522</td>\n",
       "      <td>0.080489</td>\n",
       "      <td>1.513304</td>\n",
       "    </tr>\n",
       "    <tr>\n",
       "      <th>2</th>\n",
       "      <td>(DiastolicBP_low)</td>\n",
       "      <td>(SystolicBP_low)</td>\n",
       "      <td>0.316568</td>\n",
       "      <td>0.339250</td>\n",
       "      <td>0.266272</td>\n",
       "      <td>0.841121</td>\n",
       "      <td>2.479352</td>\n",
       "      <td>0.158876</td>\n",
       "      <td>4.158835</td>\n",
       "    </tr>\n",
       "    <tr>\n",
       "      <th>3</th>\n",
       "      <td>(SystolicBP_low)</td>\n",
       "      <td>(DiastolicBP_low)</td>\n",
       "      <td>0.339250</td>\n",
       "      <td>0.316568</td>\n",
       "      <td>0.266272</td>\n",
       "      <td>0.784884</td>\n",
       "      <td>2.479352</td>\n",
       "      <td>0.158876</td>\n",
       "      <td>3.177035</td>\n",
       "    </tr>\n",
       "    <tr>\n",
       "      <th>4</th>\n",
       "      <td>(DiastolicBP_high)</td>\n",
       "      <td>(SystolicBP_normal)</td>\n",
       "      <td>0.272189</td>\n",
       "      <td>0.532544</td>\n",
       "      <td>0.146943</td>\n",
       "      <td>0.539855</td>\n",
       "      <td>1.013728</td>\n",
       "      <td>0.001990</td>\n",
       "      <td>1.015888</td>\n",
       "    </tr>\n",
       "    <tr>\n",
       "      <th>5</th>\n",
       "      <td>(SystolicBP_normal)</td>\n",
       "      <td>(DiastolicBP_high)</td>\n",
       "      <td>0.532544</td>\n",
       "      <td>0.272189</td>\n",
       "      <td>0.146943</td>\n",
       "      <td>0.275926</td>\n",
       "      <td>1.013728</td>\n",
       "      <td>0.001990</td>\n",
       "      <td>1.005160</td>\n",
       "    </tr>\n",
       "    <tr>\n",
       "      <th>6</th>\n",
       "      <td>(DiastolicBP_normal)</td>\n",
       "      <td>(SystolicBP_normal)</td>\n",
       "      <td>0.411243</td>\n",
       "      <td>0.532544</td>\n",
       "      <td>0.335306</td>\n",
       "      <td>0.815348</td>\n",
       "      <td>1.531042</td>\n",
       "      <td>0.116301</td>\n",
       "      <td>2.531545</td>\n",
       "    </tr>\n",
       "    <tr>\n",
       "      <th>7</th>\n",
       "      <td>(SystolicBP_normal)</td>\n",
       "      <td>(DiastolicBP_normal)</td>\n",
       "      <td>0.532544</td>\n",
       "      <td>0.411243</td>\n",
       "      <td>0.335306</td>\n",
       "      <td>0.629630</td>\n",
       "      <td>1.531042</td>\n",
       "      <td>0.116301</td>\n",
       "      <td>1.589645</td>\n",
       "    </tr>\n",
       "  </tbody>\n",
       "</table>\n",
       "</div>"
      ],
      "text/plain": [
       "            antecedents           consequents  antecedent support  \\\n",
       "0     (SystolicBP_high)    (DiastolicBP_high)            0.128205   \n",
       "1    (DiastolicBP_high)     (SystolicBP_high)            0.272189   \n",
       "2     (DiastolicBP_low)      (SystolicBP_low)            0.316568   \n",
       "3      (SystolicBP_low)     (DiastolicBP_low)            0.339250   \n",
       "4    (DiastolicBP_high)   (SystolicBP_normal)            0.272189   \n",
       "5   (SystolicBP_normal)    (DiastolicBP_high)            0.532544   \n",
       "6  (DiastolicBP_normal)   (SystolicBP_normal)            0.411243   \n",
       "7   (SystolicBP_normal)  (DiastolicBP_normal)            0.532544   \n",
       "\n",
       "   consequent support   support  confidence      lift  leverage  conviction  \n",
       "0            0.272189  0.115385    0.900000  3.306522  0.080489    7.278107  \n",
       "1            0.128205  0.115385    0.423913  3.306522  0.080489    1.513304  \n",
       "2            0.339250  0.266272    0.841121  2.479352  0.158876    4.158835  \n",
       "3            0.316568  0.266272    0.784884  2.479352  0.158876    3.177035  \n",
       "4            0.532544  0.146943    0.539855  1.013728  0.001990    1.015888  \n",
       "5            0.272189  0.146943    0.275926  1.013728  0.001990    1.005160  \n",
       "6            0.532544  0.335306    0.815348  1.531042  0.116301    2.531545  \n",
       "7            0.411243  0.335306    0.629630  1.531042  0.116301    1.589645  "
      ]
     },
     "execution_count": 48,
     "metadata": {},
     "output_type": "execute_result"
    }
   ],
   "source": [
    "# creating and finding best cardinal=2 rules for the dataset baove\n",
    "rules_2 = association_rules(freq_itemset, metric='lift', min_threshold=0.5)\n",
    "rules_2"
   ]
  },
  {
   "cell_type": "markdown",
   "id": "86aa5be3",
   "metadata": {},
   "source": [
    "## Clusters between systolic Blood pressures"
   ]
  },
  {
   "cell_type": "code",
   "execution_count": 49,
   "id": "c570498d",
   "metadata": {},
   "outputs": [
    {
     "data": {
      "text/html": [
       "<div>\n",
       "<style scoped>\n",
       "    .dataframe tbody tr th:only-of-type {\n",
       "        vertical-align: middle;\n",
       "    }\n",
       "\n",
       "    .dataframe tbody tr th {\n",
       "        vertical-align: top;\n",
       "    }\n",
       "\n",
       "    .dataframe thead th {\n",
       "        text-align: right;\n",
       "    }\n",
       "</style>\n",
       "<table border=\"1\" class=\"dataframe\">\n",
       "  <thead>\n",
       "    <tr style=\"text-align: right;\">\n",
       "      <th></th>\n",
       "      <th>Age</th>\n",
       "      <th>SystolicBP</th>\n",
       "    </tr>\n",
       "  </thead>\n",
       "  <tbody>\n",
       "    <tr>\n",
       "      <th>0</th>\n",
       "      <td>25</td>\n",
       "      <td>130</td>\n",
       "    </tr>\n",
       "    <tr>\n",
       "      <th>1</th>\n",
       "      <td>35</td>\n",
       "      <td>140</td>\n",
       "    </tr>\n",
       "    <tr>\n",
       "      <th>2</th>\n",
       "      <td>29</td>\n",
       "      <td>90</td>\n",
       "    </tr>\n",
       "    <tr>\n",
       "      <th>3</th>\n",
       "      <td>30</td>\n",
       "      <td>140</td>\n",
       "    </tr>\n",
       "    <tr>\n",
       "      <th>4</th>\n",
       "      <td>35</td>\n",
       "      <td>120</td>\n",
       "    </tr>\n",
       "    <tr>\n",
       "      <th>...</th>\n",
       "      <td>...</td>\n",
       "      <td>...</td>\n",
       "    </tr>\n",
       "    <tr>\n",
       "      <th>1009</th>\n",
       "      <td>22</td>\n",
       "      <td>120</td>\n",
       "    </tr>\n",
       "    <tr>\n",
       "      <th>1010</th>\n",
       "      <td>55</td>\n",
       "      <td>120</td>\n",
       "    </tr>\n",
       "    <tr>\n",
       "      <th>1011</th>\n",
       "      <td>35</td>\n",
       "      <td>85</td>\n",
       "    </tr>\n",
       "    <tr>\n",
       "      <th>1012</th>\n",
       "      <td>43</td>\n",
       "      <td>120</td>\n",
       "    </tr>\n",
       "    <tr>\n",
       "      <th>1013</th>\n",
       "      <td>32</td>\n",
       "      <td>120</td>\n",
       "    </tr>\n",
       "  </tbody>\n",
       "</table>\n",
       "<p>1014 rows × 2 columns</p>\n",
       "</div>"
      ],
      "text/plain": [
       "      Age  SystolicBP\n",
       "0      25         130\n",
       "1      35         140\n",
       "2      29          90\n",
       "3      30         140\n",
       "4      35         120\n",
       "...   ...         ...\n",
       "1009   22         120\n",
       "1010   55         120\n",
       "1011   35          85\n",
       "1012   43         120\n",
       "1013   32         120\n",
       "\n",
       "[1014 rows x 2 columns]"
      ]
     },
     "execution_count": 49,
     "metadata": {},
     "output_type": "execute_result"
    }
   ],
   "source": [
    "# creating the features to use to build the clustering model\n",
    "features = mhs_data[['Age','SystolicBP']]\n",
    "features"
   ]
  },
  {
   "cell_type": "code",
   "execution_count": 50,
   "id": "a8a6ee67",
   "metadata": {},
   "outputs": [
    {
     "data": {
      "image/png": "[encoded data removed]",
      "text/plain": [
       "<Figure size 800x550 with 2 Axes>"
      ]
     },
     "metadata": {},
     "output_type": "display_data"
    },
    {
     "data": {
      "text/plain": [
       "<AxesSubplot:title={'center':'Distortion Score Elbow for KMeans Clustering'}, xlabel='k', ylabel='distortion score'>"
      ]
     },
     "execution_count": 50,
     "metadata": {},
     "output_type": "execute_result"
    }
   ],
   "source": [
    "# Instantiate a kelbow visualizer to try and find optimal no of clusters for the model\n",
    "km = KMeans(random_state=42)\n",
    "visualizer = KElbowVisualizer(km, k=(1,10), metric='distortion', timings=True, locate_elbow=True)\n",
    " \n",
    "visualizer.fit(features)        # Fit the data to the visualizer\n",
    "visualizer.show()  "
   ]
  },
  {
   "cell_type": "code",
   "execution_count": 51,
   "id": "0cf1b55f",
   "metadata": {},
   "outputs": [],
   "source": [
    "'''creating a function to build a specific no of cluster model, calcuate the centroids,\n",
    "graphically show the clusters, its centroids and save the plot while also returning the silhouette score'''\n",
    "\n",
    "def cluster_plot(n,features, x_label, y_label, label):\n",
    "    k_means = KMeans(n_clusters=n)\n",
    "    k_means.fit(features)\n",
    "    labels = k_means.fit_predict(features)\n",
    "    \n",
    "    # adding the labels into the dataframe for plotting\n",
    "    features[label] = labels\n",
    "    \n",
    "    # plotting using seaborn and saving the plot\n",
    "    plot = sns.scatterplot(data = features, x = x_label, y = y_label, hue = label, \n",
    "                         palette = 'pastel')\n",
    "    plt.title('Graph showing Patients Clusters with similar Systolic BP')\n",
    "    save_plot = plot.get_figure().savefig('Systolic BP cluster plot.png') # saving the plot\n",
    "    return (plot, save_plot, f'Silhouette score is: {silhouette_score(features, labels)}')"
   ]
  },
  {
   "cell_type": "code",
   "execution_count": 52,
   "id": "3053b724",
   "metadata": {
    "scrolled": false
   },
   "outputs": [
    {
     "name": "stderr",
     "output_type": "stream",
     "text": [
      "C:\\Users\\DELL\\AppData\\Local\\Temp\\ipykernel_8240\\3614951248.py:10: SettingWithCopyWarning: \n",
      "A value is trying to be set on a copy of a slice from a DataFrame.\n",
      "Try using .loc[row_indexer,col_indexer] = value instead\n",
      "\n",
      "See the caveats in the documentation: https://pandas.pydata.org/pandas-docs/stable/user_guide/indexing.html#returning-a-view-versus-a-copy\n",
      "  features[label] = labels\n"
     ]
    },
    {
     "data": {
      "text/plain": [
       "(<AxesSubplot:title={'center':'Graph showing Patients Clusters with similar Systolic BP'}, xlabel='SystolicBP', ylabel='Age'>,\n",
       " None,\n",
       " 'Silhouette score is: 0.521666902777969')"
      ]
     },
     "execution_count": 52,
     "metadata": {},
     "output_type": "execute_result"
    },
    {
     "data": {
      "image/png": "[encoded data removed]",
      "text/plain": [
       "<Figure size 800x550 with 1 Axes>"
      ]
     },
     "metadata": {},
     "output_type": "display_data"
    }
   ],
   "source": [
    "# calling out the created funcion above\n",
    "cluster_plot(3,features,'SystolicBP','Age','cluster labels')"
   ]
  },
  {
   "cell_type": "code",
   "execution_count": 53,
   "id": "74764191",
   "metadata": {},
   "outputs": [],
   "source": [
    "copy_data = mhs_data.copy()"
   ]
  },
  {
   "cell_type": "code",
   "execution_count": 54,
   "id": "80e82305",
   "metadata": {},
   "outputs": [],
   "source": [
    "x  = np.array(mhs_data['SystolicBP'])\n",
    "x = x.reshape(-1,1)\n",
    "x = MinMaxScaler().fit_transform(x)\n",
    "k_means = KMeans(n_clusters=3)\n",
    "la = k_means.fit_predict(x)\n",
    "copy_data['clusters'] = la"
   ]
  },
  {
   "cell_type": "code",
   "execution_count": 55,
   "id": "f6294515",
   "metadata": {},
   "outputs": [
    {
     "name": "stderr",
     "output_type": "stream",
     "text": [
      "C:\\Users\\DELL\\anaconda3\\lib\\site-packages\\seaborn\\axisgrid.py:130: DeprecationWarning: distutils Version classes are deprecated. Use packaging.version instead.\n",
      "  if LooseVersion(mpl.__version__) < LooseVersion(\"3.0\"):\n",
      "C:\\Users\\DELL\\anaconda3\\lib\\site-packages\\seaborn\\axisgrid.py:130: DeprecationWarning: distutils Version classes are deprecated. Use packaging.version instead.\n",
      "  if LooseVersion(mpl.__version__) < LooseVersion(\"3.0\"):\n"
     ]
    },
    {
     "data": {
      "image/png": "[encoded data removed]",
      "text/plain": [
       "<Figure size 568.486x500 with 1 Axes>"
      ]
     },
     "metadata": {},
     "output_type": "display_data"
    }
   ],
   "source": [
    "cluster_plot = sns.displot(copy_data, x = \"SystolicBP\", binwidth = 10, hue = \"clusters\", palette = \"pastel\")"
   ]
  },
  {
   "cell_type": "markdown",
   "id": "eee71381",
   "metadata": {},
   "source": [
    "## Correlation between Age and Systolic blood pressure"
   ]
  },
  {
   "cell_type": "code",
   "execution_count": 56,
   "id": "6027d7aa",
   "metadata": {},
   "outputs": [
    {
     "name": "stdout",
     "output_type": "stream",
     "text": [
      "Correlation between Age and SystolicBP: 0.4160454479747331\n"
     ]
    }
   ],
   "source": [
    "x = mhs_data['Age']\n",
    "y = mhs_data['SystolicBP']\n",
    "\n",
    "correlation = x.corr(y)\n",
    "print (f'Correlation between Age and SystolicBP: {correlation}')"
   ]
  },
  {
   "cell_type": "code",
   "execution_count": 57,
   "id": "ae25aabc",
   "metadata": {},
   "outputs": [
    {
     "data": {
      "image/png": "[encoded data removed]",
      "text/plain": [
       "<Figure size 800x800 with 1 Axes>"
      ]
     },
     "metadata": {},
     "output_type": "display_data"
    }
   ],
   "source": [
    "# graphically showing how Age and SystolicBP relate with eachother from the dataset \n",
    "sys_plt = sns.lmplot(data = mhs_data, x='Age', y='SystolicBP', height=8).set(title ='Graph showing relationship between Age and SystolicBP')\n",
    "sys_plt.savefig('Systolic plot')"
   ]
  },
  {
   "cell_type": "markdown",
   "id": "51ea273f",
   "metadata": {},
   "source": [
    "# END"
   ]
  }
 ],
 "metadata": {
  "kernelspec": {
   "display_name": "Python 3 (ipykernel)",
   "language": "python",
   "name": "python3"
  },
  "language_info": {
   "codemirror_mode": {
    "name": "ipython",
    "version": 3
   },
   "file_extension": ".py",
   "mimetype": "text/x-python",
   "name": "python",
   "nbconvert_exporter": "python",
   "pygments_lexer": "ipython3",
   "version": "3.9.13"
  }
 },
 "nbformat": 4,
 "nbformat_minor": 5
}
